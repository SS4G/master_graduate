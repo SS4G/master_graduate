{
 "cells": [
  {
   "cell_type": "code",
   "execution_count": 1,
   "metadata": {
    "collapsed": false
   },
   "outputs": [
    {
     "ename": "NameError",
     "evalue": "name 'dataPath' is not defined",
     "output_type": "error",
     "traceback": [
      "\u001b[0;31m---------------------------------------------------------------------------\u001b[0m",
      "\u001b[0;31mNameError\u001b[0m                                 Traceback (most recent call last)",
      "\u001b[0;32m<ipython-input-1-23816958dfaf>\u001b[0m in \u001b[0;36m<module>\u001b[0;34m()\u001b[0m\n\u001b[1;32m      2\u001b[0m \u001b[0;32mimport\u001b[0m \u001b[0mpickle\u001b[0m\u001b[0;34m\u001b[0m\u001b[0m\n\u001b[1;32m      3\u001b[0m \u001b[0;32mimport\u001b[0m \u001b[0mnumpy\u001b[0m \u001b[0;32mas\u001b[0m \u001b[0mnp\u001b[0m\u001b[0;34m\u001b[0m\u001b[0m\n\u001b[0;32m----> 4\u001b[0;31m \u001b[0;32mwith\u001b[0m \u001b[0mh5py\u001b[0m\u001b[0;34m.\u001b[0m\u001b[0mFile\u001b[0m\u001b[0;34m(\u001b[0m\u001b[0;34m'{0}/models/lenet_relu_model_all.hdf5'\u001b[0m\u001b[0;34m.\u001b[0m\u001b[0mformat\u001b[0m\u001b[0;34m(\u001b[0m\u001b[0mdataPath\u001b[0m\u001b[0;34m)\u001b[0m\u001b[0;34m,\u001b[0m \u001b[0;34m\"r\"\u001b[0m\u001b[0;34m)\u001b[0m \u001b[0;32mas\u001b[0m \u001b[0mf\u001b[0m\u001b[0;34m:\u001b[0m\u001b[0;34m\u001b[0m\u001b[0m\n\u001b[0m\u001b[1;32m      5\u001b[0m     \u001b[0mmyModel\u001b[0m\u001b[0;34m(\u001b[0m\u001b[0mimgs\u001b[0m\u001b[0;34m,\u001b[0m \u001b[0mf\u001b[0m\u001b[0;34m[\u001b[0m\u001b[0;34m\"/model_weights\"\u001b[0m\u001b[0;34m]\u001b[0m\u001b[0;34m,\u001b[0m \u001b[0;34m\"{0}/model_output/rebuild_model_output.hdf5\"\u001b[0m\u001b[0;34m.\u001b[0m\u001b[0mformat\u001b[0m\u001b[0;34m(\u001b[0m\u001b[0mdataPath\u001b[0m\u001b[0;34m)\u001b[0m\u001b[0;34m)\u001b[0m\u001b[0;34m\u001b[0m\u001b[0m\n\u001b[1;32m      6\u001b[0m     \u001b[0mfx\u001b[0m \u001b[0;34m=\u001b[0m \u001b[0;34m{\u001b[0m\u001b[0;34m}\u001b[0m\u001b[0;34m\u001b[0m\u001b[0m\n",
      "\u001b[0;31mNameError\u001b[0m: name 'dataPath' is not defined"
     ]
    }
   ],
   "source": [
    "import h5py\n",
    "import pickle\n",
    "import numpy as np\n",
    "    dataPath = \"/home/szh-920/workspace/master_graduate/data\"\n",
    "\n",
    "with h5py.File('{0}/models/lenet_relu_model_all.hdf5'.format(dataPath), \"r\") as f:\n",
    "    myModel(imgs, f[\"/model_weights\"], \"{0}/model_output/rebuild_model_output.hdf5\".format(dataPath))\n",
    "    fx = {}\n",
    "    fx[\"conv1_k\"] = np.array(weights[\"conv2d_1/conv2d_1/kernel:0\"])\n",
    "    fx[\"conv1_b\"] = np.array(weights[\"conv2d_1/conv2d_1/bias:0\"])\n",
    "    fx[\"conv2_k\"] = np.array(weights[\"conv2d_2/conv2d_2/kernel:0\"])\n",
    "    fx[\"conv2_b\"] = np.array(weights[\"conv2d_2/conv2d_2/bias:0\"])\n",
    "    fx[\"dense1_k\"] = np.array(weights[\"dense_1/dense_1/kernel:0\"])\n",
    "    fx[\"dense1_b\"] = np.array(weights[\"dense_1/dense_1/bias:0\"])\n",
    "    fx[\"dense2_k\"] = np.array(weights[\"dense_2/dense_2/kernel:0\"])\n",
    "    fx[\"dense2_b\"] = np.array(weights[\"dense_2/dense_2/bias:0\"])\n",
    "    fx[\"dense3_k\"] = np.array(weights[\"dense_3/dense_3/kernel:0\"])\n",
    "    fx[\"dense3_b\"] = np.array(weights[\"dense_3/dense_3/bias:0\"])\n",
    "\n",
    "dataPath = \"/home/szh-920/workspace/master_graduate/data\"\n",
    "with h5py.File(\"{0}/data_set/dataSet.hdf5\".format(dataPath), \"r\") as data_f:\n",
    "    train_x = np.array(data_f[\"/train_x\"])[:10000]\n",
    "    train_y = np.array(data_f[\"/train_y\"])[:10000]\n",
    "with open(\"/home/szh-920/test_imgs2.pickle\", \"wb\") as f:\n",
    "    pickle.dump((train_x, train_y, fx))"
   ]
  },
  {
   "cell_type": "code",
   "execution_count": 2,
   "metadata": {
    "collapsed": false
   },
   "outputs": [
    {
     "data": {
      "text/plain": [
       "(10000, 35, 35, 1)"
      ]
     },
     "execution_count": 2,
     "metadata": {},
     "output_type": "execute_result"
    }
   ],
   "source": [
    "train_x.shape"
   ]
  },
  {
   "cell_type": "code",
   "execution_count": null,
   "metadata": {
    "collapsed": true
   },
   "outputs": [],
   "source": [
    "weights[\"conv2d_1/conv2d_1/kernel:0\"]"
   ]
  }
 ],
 "metadata": {
  "kernelspec": {
   "display_name": "Python 3",
   "language": "python",
   "name": "python3"
  },
  "language_info": {
   "codemirror_mode": {
    "name": "ipython",
    "version": 3
   },
   "file_extension": ".py",
   "mimetype": "text/x-python",
   "name": "python",
   "nbconvert_exporter": "python",
   "pygments_lexer": "ipython3",
   "version": "3.6.0"
  }
 },
 "nbformat": 4,
 "nbformat_minor": 2
}
