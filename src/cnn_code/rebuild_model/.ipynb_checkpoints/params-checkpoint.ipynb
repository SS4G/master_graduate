{
 "cells": [
  {
   "cell_type": "code",
   "execution_count": 1,
   "metadata": {
    "collapsed": false
   },
   "outputs": [
    {
     "name": "stderr",
     "output_type": "stream",
     "text": [
      "Using TensorFlow backend.\n"
     ]
    }
   ],
   "source": [
    "import h5py\n",
    "import numpy as np\n",
    "from keras.models import Sequential, load_model\n",
    "import pickle\n",
    "from keras.layers import Dense,Flatten,Conv2D,MaxPool2D\n",
    "from keras.optimizers import SGD\n",
    "from keras.utils import to_categorical\n",
    "import cv2\n",
    "import os\n",
    "import json\n",
    "import sys"
   ]
  },
  {
   "cell_type": "code",
   "execution_count": 2,
   "metadata": {
    "collapsed": true
   },
   "outputs": [],
   "source": [
    "model = load_model('data/lenet5_relu_model.h5')"
   ]
  },
  {
   "cell_type": "code",
   "execution_count": 3,
   "metadata": {
    "collapsed": true
   },
   "outputs": [],
   "source": [
    "model_hdf5 = h5py.File(\"data/lenet5_relu_model.h5\")"
   ]
  },
  {
   "cell_type": "code",
   "execution_count": 4,
   "metadata": {
    "collapsed": false
   },
   "outputs": [],
   "source": [
    "# 获取模型的所有参数\n",
    "model_config = model.get_config()"
   ]
  },
  {
   "cell_type": "code",
   "execution_count": 5,
   "metadata": {
    "collapsed": false
   },
   "outputs": [],
   "source": [
    "json_string = model.to_json()"
   ]
  },
  {
   "cell_type": "code",
   "execution_count": 6,
   "metadata": {
    "collapsed": false
   },
   "outputs": [],
   "source": [
    "imgPath = '/home/szh-920/workspace/master_graduate/cnn_code/first_train_model/data/GTSRB_train_jpgs/00012#00037_00019.jpg'\n",
    "picture = cv2.imread(imgPath)"
   ]
  },
  {
   "cell_type": "code",
   "execution_count": 7,
   "metadata": {
    "collapsed": false
   },
   "outputs": [
    {
     "data": {
      "text/plain": [
       "(72, 72, 3)"
      ]
     },
     "execution_count": 7,
     "metadata": {},
     "output_type": "execute_result"
    }
   ],
   "source": [
    "picture.shape"
   ]
  },
  {
   "cell_type": "code",
   "execution_count": 17,
   "metadata": {
    "collapsed": false
   },
   "outputs": [
    {
     "data": {
      "text/plain": [
       "dtype('uint8')"
      ]
     },
     "execution_count": 17,
     "metadata": {},
     "output_type": "execute_result"
    }
   ],
   "source": [
    "picture.dtype"
   ]
  },
  {
   "cell_type": "code",
   "execution_count": 21,
   "metadata": {
    "collapsed": false
   },
   "outputs": [],
   "source": [
    "cv2.imwrite(\"origin.jpg\", picture)\n",
    "DST_SIZE = (35, 35, 1)"
   ]
  },
  {
   "cell_type": "code",
   "execution_count": 22,
   "metadata": {
    "collapsed": false
   },
   "outputs": [
    {
     "data": {
      "text/plain": [
       "True"
      ]
     },
     "execution_count": 22,
     "metadata": {},
     "output_type": "execute_result"
    }
   ],
   "source": [
    "mat = cv2.resize(cv2.cvtColor(picture, cv2.COLOR_BGR2GRAY), (DST_SIZE[0], DST_SIZE[1]))\n",
    "cv2.imwrite(\"gray1.jpg\", mat)\n"
   ]
  },
  {
   "cell_type": "code",
   "execution_count": 23,
   "metadata": {
    "collapsed": true
   },
   "outputs": [],
   "source": [
    "mat2 = mat.reshape(DST_SIZE)"
   ]
  },
  {
   "cell_type": "code",
   "execution_count": 25,
   "metadata": {
    "collapsed": false
   },
   "outputs": [
    {
     "data": {
      "text/plain": [
       "(35, 35)"
      ]
     },
     "execution_count": 25,
     "metadata": {},
     "output_type": "execute_result"
    }
   ],
   "source": [
    "mat.shape"
   ]
  },
  {
   "cell_type": "code",
   "execution_count": 26,
   "metadata": {
    "collapsed": false
   },
   "outputs": [
    {
     "data": {
      "text/plain": [
       "(35, 35, 1)"
      ]
     },
     "execution_count": 26,
     "metadata": {},
     "output_type": "execute_result"
    }
   ],
   "source": [
    "mat2.shape"
   ]
  },
  {
   "cell_type": "code",
   "execution_count": 39,
   "metadata": {
    "collapsed": false
   },
   "outputs": [],
   "source": [
    "origin_gray_picture = mat.tolist()\n",
    "model_input_mat = mat2.tolist()"
   ]
  },
  {
   "cell_type": "code",
   "execution_count": 60,
   "metadata": {
    "collapsed": false
   },
   "outputs": [],
   "source": [
    "conv2d_1_layer = model.get_layer(\"conv2d_1\")"
   ]
  },
  {
   "cell_type": "code",
   "execution_count": null,
   "metadata": {
    "collapsed": false
   },
   "outputs": [],
   "source": []
  },
  {
   "cell_type": "code",
   "execution_count": 61,
   "metadata": {
    "collapsed": false
   },
   "outputs": [],
   "source": [
    "model_all_weights = model.get_weights()"
   ]
  },
  {
   "cell_type": "code",
   "execution_count": 64,
   "metadata": {
    "collapsed": false
   },
   "outputs": [],
   "source": [
    "conv2d_1_params = conv2d_1_layer.get_weights()"
   ]
  },
  {
   "cell_type": "code",
   "execution_count": 66,
   "metadata": {
    "collapsed": false
   },
   "outputs": [
    {
     "data": {
      "text/plain": [
       "(5, 5, 1, 6)"
      ]
     },
     "execution_count": 66,
     "metadata": {},
     "output_type": "execute_result"
    }
   ],
   "source": [
    "#params[0] is kernal\n",
    "conv2d_1_params[0].shape"
   ]
  },
  {
   "cell_type": "code",
   "execution_count": 67,
   "metadata": {
    "collapsed": false
   },
   "outputs": [
    {
     "data": {
      "text/plain": [
       "array([[[[-8.05068538e-02, -3.66332405e-03,  3.19653600e-02,\n",
       "          -1.33803397e-01, -1.41846538e-01, -2.14381739e-01]],\n",
       "\n",
       "        [[-8.17928929e-03, -5.46407819e-01, -5.55108547e-01,\n",
       "          -1.53266370e-01,  8.07685312e-03, -2.78513193e-01]],\n",
       "\n",
       "        [[-1.56415194e-01, -1.26194406e+00, -6.04668438e-01,\n",
       "          -1.35470647e-02, -8.04923326e-02,  1.02636859e-01]],\n",
       "\n",
       "        [[ 1.69596747e-01, -1.09678829e+00, -4.93592650e-01,\n",
       "           3.30345668e-02,  7.77080283e-02, -7.34073594e-02]],\n",
       "\n",
       "        [[ 3.65295447e-02, -5.46850383e-01, -1.17155552e-01,\n",
       "           4.06704582e-02, -1.55465439e-01, -2.33241454e-01]]],\n",
       "\n",
       "\n",
       "       [[[-1.87954977e-01,  2.59794086e-01, -2.58282334e-01,\n",
       "          -1.29971012e-01, -1.29813254e-01, -2.82143891e-01]],\n",
       "\n",
       "        [[ 1.35280967e-01,  1.31916538e-01, -1.00204277e+00,\n",
       "          -1.85269594e-01, -6.58444464e-02, -1.32326946e-01]],\n",
       "\n",
       "        [[-1.16012320e-01, -4.24970716e-01, -7.24410355e-01,\n",
       "          -9.82290581e-02,  4.67756726e-02,  2.25507617e-01]],\n",
       "\n",
       "        [[ 1.13957457e-01, -1.09037924e+00, -1.59318715e-01,\n",
       "          -9.94795710e-02, -1.21423006e-01,  4.14672077e-01]],\n",
       "\n",
       "        [[ 1.14563361e-01, -1.22539091e+00, -1.35269359e-01,\n",
       "          -1.88333824e-01,  5.20672277e-02,  2.53466159e-01]]],\n",
       "\n",
       "\n",
       "       [[[ 1.12954825e-01,  5.48338056e-01, -5.52466273e-01,\n",
       "           5.45451604e-02, -3.87311950e-02, -4.16929156e-01]],\n",
       "\n",
       "        [[-1.60807282e-01,  8.98818612e-01, -6.50238454e-01,\n",
       "           4.98664230e-02, -2.18079928e-02, -2.52353042e-01]],\n",
       "\n",
       "        [[ 5.27214333e-02,  8.89061034e-01,  3.51788878e-01,\n",
       "           3.74620687e-03, -9.89643037e-02,  2.03579456e-01]],\n",
       "\n",
       "        [[-1.43723145e-01, -2.48665676e-01,  5.02730548e-01,\n",
       "           1.59746721e-01, -6.59072772e-02,  5.85097551e-01]],\n",
       "\n",
       "        [[-1.08102471e-01, -6.88168108e-01,  5.60191095e-01,\n",
       "          -9.28981081e-02,  1.76648676e-01,  5.21642148e-01]]],\n",
       "\n",
       "\n",
       "       [[[-1.60717964e-01,  5.16212821e-01, -4.63687688e-01,\n",
       "           7.61199594e-02, -1.20727606e-01, -5.21802425e-01]],\n",
       "\n",
       "        [[ 9.30562019e-02,  9.36473727e-01, -1.21528627e-02,\n",
       "          -1.62484005e-01, -2.01896969e-02, -5.35996854e-01]],\n",
       "\n",
       "        [[-1.20075360e-01,  1.13148129e+00,  7.40490198e-01,\n",
       "          -9.25495327e-02, -5.21734208e-02,  2.54266292e-01]],\n",
       "\n",
       "        [[ 7.60585442e-02,  4.52572674e-01,  8.12797129e-01,\n",
       "          -5.98597303e-02,  1.29392982e-01,  7.79127598e-01]],\n",
       "\n",
       "        [[-4.04617982e-04, -2.68214285e-01,  8.12785745e-01,\n",
       "          -1.31627664e-01, -1.23654455e-01,  8.17194819e-01]]],\n",
       "\n",
       "\n",
       "       [[[ 1.28494337e-01,  2.79423594e-01, -2.34892368e-01,\n",
       "           1.32913664e-01,  2.15165094e-02, -6.07639074e-01]],\n",
       "\n",
       "        [[-1.18346035e-01,  8.95541489e-01,  2.58259743e-01,\n",
       "           1.45056918e-01, -4.60716784e-02, -6.19861841e-01]],\n",
       "\n",
       "        [[-4.81237881e-02,  1.03420603e+00,  7.24881768e-01,\n",
       "           1.18323319e-01, -9.56437811e-02, -3.78606409e-01]],\n",
       "\n",
       "        [[ 4.93139885e-02,  3.82793188e-01,  8.31826270e-01,\n",
       "          -1.09824516e-01, -5.88405319e-02,  4.71132636e-01]],\n",
       "\n",
       "        [[-1.65875293e-02, -1.56481832e-01,  5.84725678e-01,\n",
       "           6.66417181e-02, -1.71435654e-01,  7.79741347e-01]]]],\n",
       "      dtype=float32)"
      ]
     },
     "execution_count": 67,
     "metadata": {},
     "output_type": "execute_result"
    }
   ],
   "source": [
    "#params[1] is bias\n",
    "conv2d_1_params[0]"
   ]
  },
  {
   "cell_type": "code",
   "execution_count": 70,
   "metadata": {
    "collapsed": false
   },
   "outputs": [],
   "source": [
    "f = open(\"data/jpgs_np_arrays_dataset.pickle\", \"rb\")\n",
    "dataSet = pickle.load(f)\n",
    "f.close()"
   ]
  },
  {
   "cell_type": "code",
   "execution_count": 71,
   "metadata": {
    "collapsed": false
   },
   "outputs": [
    {
     "data": {
      "text/plain": [
       "dict_keys(['train_x', 'train_y', 'test_x', 'test_y'])"
      ]
     },
     "execution_count": 71,
     "metadata": {},
     "output_type": "execute_result"
    }
   ],
   "source": [
    "dataSet.keys()"
   ]
  },
  {
   "cell_type": "code",
   "execution_count": 72,
   "metadata": {
    "collapsed": true
   },
   "outputs": [],
   "source": [
    "train_x = dataSet['train_x']"
   ]
  },
  {
   "cell_type": "code",
   "execution_count": 74,
   "metadata": {
    "collapsed": false
   },
   "outputs": [],
   "source": [
    "res = model.predict(train_x)"
   ]
  },
  {
   "cell_type": "code",
   "execution_count": 75,
   "metadata": {
    "collapsed": false
   },
   "outputs": [
    {
     "data": {
      "text/plain": [
       "(35288, 43)"
      ]
     },
     "execution_count": 75,
     "metadata": {},
     "output_type": "execute_result"
    }
   ],
   "source": [
    "res.shape"
   ]
  },
  {
   "cell_type": "code",
   "execution_count": 76,
   "metadata": {
    "collapsed": false
   },
   "outputs": [
    {
     "data": {
      "text/plain": [
       "array([3.38258981e-16, 2.28342389e-09, 5.90623640e-05, 1.82762979e-05,\n",
       "       3.52011135e-18, 9.99922633e-01, 6.33534540e-08, 1.51705350e-11,\n",
       "       2.74153847e-26, 7.53928419e-26, 6.43076413e-17, 5.51545486e-20,\n",
       "       2.23391676e-21, 1.89024747e-27, 6.18893802e-24, 1.50086164e-22,\n",
       "       4.65136463e-17, 2.43096746e-30, 8.89364943e-27, 1.38985252e-19,\n",
       "       3.08765262e-20, 4.90130817e-17, 2.03555252e-25, 1.22610149e-18,\n",
       "       8.54591194e-23, 7.73951592e-24, 1.02260891e-22, 7.81404809e-21,\n",
       "       1.08572023e-23, 3.34562837e-25, 7.01467486e-23, 1.33856369e-17,\n",
       "       3.31724043e-16, 3.74772655e-25, 1.12479998e-24, 1.25688912e-24,\n",
       "       3.37283050e-19, 1.04148663e-21, 8.53717578e-24, 1.17899680e-23,\n",
       "       4.87742222e-22, 1.74672612e-20, 1.32173765e-14], dtype=float32)"
      ]
     },
     "execution_count": 76,
     "metadata": {},
     "output_type": "execute_result"
    }
   ],
   "source": [
    "res[0]"
   ]
  },
  {
   "cell_type": "code",
   "execution_count": 98,
   "metadata": {
    "collapsed": false
   },
   "outputs": [],
   "source": [
    "test_y = dataSet['test_y']\n",
    "test_x = dataSet['test_x']\n",
    "train_x = dataSet['train_x']\n",
    "train_y = dataSet['train_y']"
   ]
  },
  {
   "cell_type": "code",
   "execution_count": 99,
   "metadata": {
    "collapsed": false
   },
   "outputs": [
    {
     "data": {
      "text/plain": [
       "(3921, 43)"
      ]
     },
     "execution_count": 99,
     "metadata": {},
     "output_type": "execute_result"
    }
   ],
   "source": [
    "test_y.shape"
   ]
  },
  {
   "cell_type": "code",
   "execution_count": 100,
   "metadata": {
    "collapsed": false
   },
   "outputs": [
    {
     "data": {
      "text/plain": [
       "array([0., 0., 0., 0., 0., 0., 0., 0., 0., 0., 0., 0., 1., 0., 0., 0., 0.,\n",
       "       0., 0., 0., 0., 0., 0., 0., 0., 0., 0., 0., 0., 0., 0., 0., 0., 0.,\n",
       "       0., 0., 0., 0., 0., 0., 0., 0., 0.], dtype=float32)"
      ]
     },
     "execution_count": 100,
     "metadata": {},
     "output_type": "execute_result"
    }
   ],
   "source": [
    "test_y[0]"
   ]
  },
  {
   "cell_type": "code",
   "execution_count": 101,
   "metadata": {
    "collapsed": false
   },
   "outputs": [
    {
     "name": "stdout",
     "output_type": "stream",
     "text": [
      "35288\n"
     ]
    }
   ],
   "source": [
    "def max_idx(li):\n",
    "    max_idx = 0\n",
    "    max_val = -100000.0\n",
    "    for idx, val in enumerate(li):\n",
    "        if val > max_val:\n",
    "            max_val = val\n",
    "            max_idx = idx\n",
    "    return idx\n",
    "pred_test_y = model.predict(train_x).tolist()\n",
    "test_y = train_y.tolist()\n",
    "cnt = 0\n",
    "for i in range(35288):\n",
    "    a = pred_test_y[i]\n",
    "    b = test_y[i]\n",
    "    if max_idx(a) == max_idx(b):\n",
    "        cnt += 1\n",
    "print(cnt)"
   ]
  },
  {
   "cell_type": "code",
   "execution_count": 102,
   "metadata": {
    "collapsed": false
   },
   "outputs": [
    {
     "data": {
      "text/plain": [
       "(35, 35, 1)"
      ]
     },
     "execution_count": 102,
     "metadata": {},
     "output_type": "execute_result"
    }
   ],
   "source": [
    "test_img = test_x[0]\n",
    "test_img.shape"
   ]
  },
  {
   "cell_type": "code",
   "execution_count": 103,
   "metadata": {
    "collapsed": false
   },
   "outputs": [
    {
     "data": {
      "text/plain": [
       "<tf.Tensor 'conv2d_1_input:0' shape=(?, 35, 35, 1) dtype=float32>"
      ]
     },
     "execution_count": 103,
     "metadata": {},
     "output_type": "execute_result"
    }
   ],
   "source": []
  },
  {
   "cell_type": "code",
   "execution_count": null,
   "metadata": {
    "collapsed": true
   },
   "outputs": [],
   "source": [
    "conv2d_1_layer_model = Model(input=model.input, output=conv2d_1_layer.output)\n",
    "conv2d_1_layer_model = conv2d_1_layer_model.predict(data)"
   ]
  },
  {
   "cell_type": "code",
   "execution_count": null,
   "metadata": {
    "collapsed": true
   },
   "outputs": [],
   "source": []
  }
 ],
 "metadata": {
  "kernelspec": {
   "display_name": "Python 3",
   "language": "python",
   "name": "python3"
  },
  "language_info": {
   "codemirror_mode": {
    "name": "ipython",
    "version": 3
   },
   "file_extension": ".py",
   "mimetype": "text/x-python",
   "name": "python",
   "nbconvert_exporter": "python",
   "pygments_lexer": "ipython3",
   "version": "3.6.0"
  }
 },
 "nbformat": 4,
 "nbformat_minor": 2
}
