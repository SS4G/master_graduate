{
 "cells": [
  {
   "cell_type": "code",
   "execution_count": 2,
   "metadata": {
    "collapsed": false
   },
   "outputs": [],
   "source": [
    "import h5py"
   ]
  },
  {
   "cell_type": "code",
   "execution_count": 3,
   "metadata": {
    "collapsed": false
   },
   "outputs": [
    {
     "name": "stdout",
     "output_type": "stream",
     "text": [
      "\u001b[0m\u001b[01;34mGTSRB_train_jpgs\u001b[0m/        minist_test.py       unstandard_file.csv\r\n",
      "\u001b[01;31mGTSRB_Train_jpgs.zip\u001b[0m     \u001b[01;34mMNIST_data\u001b[0m/          Untitled.ipynb\r\n",
      "image_info.csv           relu_GTSRB_model.h5\r\n",
      "keras_lenet5_succeed.py  \u001b[01;34mtrash\u001b[0m/\r\n"
     ]
    }
   ],
   "source": [
    "ls"
   ]
  },
  {
   "cell_type": "code",
   "execution_count": 4,
   "metadata": {
    "collapsed": true
   },
   "outputs": [],
   "source": [
    "model = h5py.File(\"relu_GTSRB_model.h5\")"
   ]
  },
  {
   "cell_type": "code",
   "execution_count": 6,
   "metadata": {
    "collapsed": false
   },
   "outputs": [
    {
     "data": {
      "text/plain": [
       "['model_weights', 'optimizer_weights']"
      ]
     },
     "execution_count": 6,
     "metadata": {},
     "output_type": "execute_result"
    }
   ],
   "source": [
    "list(model.keys())"
   ]
  },
  {
   "cell_type": "code",
   "execution_count": 11,
   "metadata": {
    "collapsed": false
   },
   "outputs": [],
   "source": [
    "model_weights = model['model_weights']"
   ]
  },
  {
   "cell_type": "code",
   "execution_count": 12,
   "metadata": {
    "collapsed": false,
    "scrolled": true
   },
   "outputs": [
    {
     "data": {
      "text/plain": [
       "['conv2d_1',\n",
       " 'conv2d_2',\n",
       " 'dense_1',\n",
       " 'dense_2',\n",
       " 'dense_3',\n",
       " 'flatten_1',\n",
       " 'max_pooling2d_1',\n",
       " 'max_pooling2d_2']"
      ]
     },
     "execution_count": 12,
     "metadata": {},
     "output_type": "execute_result"
    }
   ],
   "source": [
    "list(model_weights.keys())"
   ]
  },
  {
   "cell_type": "code",
   "execution_count": 19,
   "metadata": {
    "collapsed": false
   },
   "outputs": [
    {
     "data": {
      "text/plain": [
       "KeysView(<HDF5 group \"/model_weights/conv2d_1/conv2d_1\" (2 members)>)"
      ]
     },
     "execution_count": 19,
     "metadata": {},
     "output_type": "execute_result"
    }
   ],
   "source": [
    "model_weights['conv2d_1']['conv2d_1'].keys()"
   ]
  },
  {
   "cell_type": "code",
   "execution_count": 20,
   "metadata": {
    "collapsed": false
   },
   "outputs": [
    {
     "data": {
      "text/plain": [
       "[<HDF5 group \"/model_weights/conv2d_1\" (1 members)>,\n",
       " <HDF5 group \"/model_weights/conv2d_2\" (1 members)>,\n",
       " <HDF5 group \"/model_weights/dense_1\" (1 members)>,\n",
       " <HDF5 group \"/model_weights/dense_2\" (1 members)>,\n",
       " <HDF5 group \"/model_weights/dense_3\" (1 members)>,\n",
       " <HDF5 group \"/model_weights/flatten_1\" (0 members)>,\n",
       " <HDF5 group \"/model_weights/max_pooling2d_1\" (0 members)>,\n",
       " <HDF5 group \"/model_weights/max_pooling2d_2\" (0 members)>]"
      ]
     },
     "execution_count": 20,
     "metadata": {},
     "output_type": "execute_result"
    }
   ],
   "source": [
    "list(model_weights.values())"
   ]
  },
  {
   "cell_type": "code",
   "execution_count": 30,
   "metadata": {
    "collapsed": false
   },
   "outputs": [
    {
     "data": {
      "text/plain": [
       "<HDF5 dataset \"bias:0\": shape (6,), type \"<f4\">"
      ]
     },
     "execution_count": 30,
     "metadata": {},
     "output_type": "execute_result"
    }
   ],
   "source": [
    "model_weights['conv2d_1']['conv2d_1']['bias:0']"
   ]
  },
  {
   "cell_type": "code",
   "execution_count": 36,
   "metadata": {
    "collapsed": false
   },
   "outputs": [
    {
     "data": {
      "text/plain": [
       "<HDF5 dataset \"bias:0\": shape (6,), type \"<f4\">"
      ]
     },
     "execution_count": 36,
     "metadata": {},
     "output_type": "execute_result"
    }
   ],
   "source": [
    "model[\"/model_weights/conv2d_1/conv2d_1/bias:0\"]"
   ]
  },
  {
   "cell_type": "code",
   "execution_count": 37,
   "metadata": {
    "collapsed": false
   },
   "outputs": [
    {
     "ename": "AttributeError",
     "evalue": "'Dataset' object has no attribute 'keys'",
     "output_type": "error",
     "traceback": [
      "\u001b[0;31m---------------------------------------------------------------------------\u001b[0m",
      "\u001b[0;31mAttributeError\u001b[0m                            Traceback (most recent call last)",
      "\u001b[0;32m<ipython-input-37-b4446dd54403>\u001b[0m in \u001b[0;36m<module>\u001b[0;34m()\u001b[0m\n\u001b[0;32m----> 1\u001b[0;31m \u001b[0mlist\u001b[0m\u001b[0;34m(\u001b[0m\u001b[0mmodel\u001b[0m\u001b[0;34m[\u001b[0m\u001b[0;34m\"/model_weights/conv2d_1/conv2d_1/bias:0\"\u001b[0m\u001b[0;34m]\u001b[0m\u001b[0;34m.\u001b[0m\u001b[0mkeys\u001b[0m\u001b[0;34m(\u001b[0m\u001b[0;34m)\u001b[0m\u001b[0;34m)\u001b[0m\u001b[0;34m\u001b[0m\u001b[0m\n\u001b[0m",
      "\u001b[0;31mAttributeError\u001b[0m: 'Dataset' object has no attribute 'keys'"
     ]
    }
   ],
   "source": [
    "list(model[\"/model_weights/conv2d_1/conv2d_1/bias:0\"].keys())"
   ]
  },
  {
   "cell_type": "code",
   "execution_count": 43,
   "metadata": {
    "collapsed": true
   },
   "outputs": [],
   "source": [
    "def show_levels_of_hdf5(root_h5obj, indent=0, index='/'):\n",
    "    if hasattr(root_h5obj, 'keys'):\n",
    "        keys = list(root_h5obj.keys())\n",
    "        for key in keys:\n",
    "            print(indent * \"  \" + str(key))\n",
    "            show_levels_of_hdf5(root_h5obj[key], indent + 1, index=index + key)\n",
    "    else:\n",
    "        print(indent * \"  \" + \"type :  \" + str(type(root_h5obj)))\n",
    "        print(indent * \"  \" + \"value:  \" + str(root_h5obj))\n",
    "        print(indent * \"  \" + \"index:  \" + index)"
   ]
  },
  {
   "cell_type": "code",
   "execution_count": 44,
   "metadata": {
    "collapsed": false
   },
   "outputs": [
    {
     "name": "stdout",
     "output_type": "stream",
     "text": [
      "model_weights\n",
      "  conv2d_1\n",
      "    conv2d_1\n",
      "      bias:0\n",
      "type :          <class 'h5py._hl.dataset.Dataset'>\n",
      "value:  <HDF5 dataset \"bias:0\": shape (6,), type \"<f4\">\n",
      "index:  /model_weightsconv2d_1conv2d_1bias:0\n",
      "      kernel:0\n",
      "type :          <class 'h5py._hl.dataset.Dataset'>\n",
      "value:  <HDF5 dataset \"kernel:0\": shape (5, 5, 1, 6), type \"<f4\">\n",
      "index:  /model_weightsconv2d_1conv2d_1kernel:0\n",
      "  conv2d_2\n",
      "    conv2d_2\n",
      "      bias:0\n",
      "type :          <class 'h5py._hl.dataset.Dataset'>\n",
      "value:  <HDF5 dataset \"bias:0\": shape (16,), type \"<f4\">\n",
      "index:  /model_weightsconv2d_2conv2d_2bias:0\n",
      "      kernel:0\n",
      "type :          <class 'h5py._hl.dataset.Dataset'>\n",
      "value:  <HDF5 dataset \"kernel:0\": shape (5, 5, 6, 16), type \"<f4\">\n",
      "index:  /model_weightsconv2d_2conv2d_2kernel:0\n",
      "  dense_1\n",
      "    dense_1\n",
      "      bias:0\n",
      "type :          <class 'h5py._hl.dataset.Dataset'>\n",
      "value:  <HDF5 dataset \"bias:0\": shape (120,), type \"<f4\">\n",
      "index:  /model_weightsdense_1dense_1bias:0\n",
      "      kernel:0\n",
      "type :          <class 'h5py._hl.dataset.Dataset'>\n",
      "value:  <HDF5 dataset \"kernel:0\": shape (400, 120), type \"<f4\">\n",
      "index:  /model_weightsdense_1dense_1kernel:0\n",
      "  dense_2\n",
      "    dense_2\n",
      "      bias:0\n",
      "type :          <class 'h5py._hl.dataset.Dataset'>\n",
      "value:  <HDF5 dataset \"bias:0\": shape (84,), type \"<f4\">\n",
      "index:  /model_weightsdense_2dense_2bias:0\n",
      "      kernel:0\n",
      "type :          <class 'h5py._hl.dataset.Dataset'>\n",
      "value:  <HDF5 dataset \"kernel:0\": shape (120, 84), type \"<f4\">\n",
      "index:  /model_weightsdense_2dense_2kernel:0\n",
      "  dense_3\n",
      "    dense_3\n",
      "      bias:0\n",
      "type :          <class 'h5py._hl.dataset.Dataset'>\n",
      "value:  <HDF5 dataset \"bias:0\": shape (43,), type \"<f4\">\n",
      "index:  /model_weightsdense_3dense_3bias:0\n",
      "      kernel:0\n",
      "type :          <class 'h5py._hl.dataset.Dataset'>\n",
      "value:  <HDF5 dataset \"kernel:0\": shape (84, 43), type \"<f4\">\n",
      "index:  /model_weightsdense_3dense_3kernel:0\n",
      "  flatten_1\n",
      "  max_pooling2d_1\n",
      "  max_pooling2d_2\n",
      "optimizer_weights\n",
      "  SGD\n",
      "    iterations:0\n",
      "type :        <class 'h5py._hl.dataset.Dataset'>\n",
      "value:  <HDF5 dataset \"iterations:0\": shape (), type \"<i8\">\n",
      "index:  /optimizer_weightsSGDiterations:0\n",
      "  training\n",
      "    SGD\n",
      "      Variable:0\n",
      "type :          <class 'h5py._hl.dataset.Dataset'>\n",
      "value:  <HDF5 dataset \"Variable:0\": shape (5, 5, 1, 6), type \"<f4\">\n",
      "index:  /optimizer_weightstrainingSGDVariable:0\n",
      "      Variable_1:0\n",
      "type :          <class 'h5py._hl.dataset.Dataset'>\n",
      "value:  <HDF5 dataset \"Variable_1:0\": shape (6,), type \"<f4\">\n",
      "index:  /optimizer_weightstrainingSGDVariable_1:0\n",
      "      Variable_2:0\n",
      "type :          <class 'h5py._hl.dataset.Dataset'>\n",
      "value:  <HDF5 dataset \"Variable_2:0\": shape (5, 5, 6, 16), type \"<f4\">\n",
      "index:  /optimizer_weightstrainingSGDVariable_2:0\n",
      "      Variable_3:0\n",
      "type :          <class 'h5py._hl.dataset.Dataset'>\n",
      "value:  <HDF5 dataset \"Variable_3:0\": shape (16,), type \"<f4\">\n",
      "index:  /optimizer_weightstrainingSGDVariable_3:0\n",
      "      Variable_4:0\n",
      "type :          <class 'h5py._hl.dataset.Dataset'>\n",
      "value:  <HDF5 dataset \"Variable_4:0\": shape (400, 120), type \"<f4\">\n",
      "index:  /optimizer_weightstrainingSGDVariable_4:0\n",
      "      Variable_5:0\n",
      "type :          <class 'h5py._hl.dataset.Dataset'>\n",
      "value:  <HDF5 dataset \"Variable_5:0\": shape (120,), type \"<f4\">\n",
      "index:  /optimizer_weightstrainingSGDVariable_5:0\n",
      "      Variable_6:0\n",
      "type :          <class 'h5py._hl.dataset.Dataset'>\n",
      "value:  <HDF5 dataset \"Variable_6:0\": shape (120, 84), type \"<f4\">\n",
      "index:  /optimizer_weightstrainingSGDVariable_6:0\n",
      "      Variable_7:0\n",
      "type :          <class 'h5py._hl.dataset.Dataset'>\n",
      "value:  <HDF5 dataset \"Variable_7:0\": shape (84,), type \"<f4\">\n",
      "index:  /optimizer_weightstrainingSGDVariable_7:0\n",
      "      Variable_8:0\n",
      "type :          <class 'h5py._hl.dataset.Dataset'>\n",
      "value:  <HDF5 dataset \"Variable_8:0\": shape (84, 43), type \"<f4\">\n",
      "index:  /optimizer_weightstrainingSGDVariable_8:0\n",
      "      Variable_9:0\n",
      "type :          <class 'h5py._hl.dataset.Dataset'>\n",
      "value:  <HDF5 dataset \"Variable_9:0\": shape (43,), type \"<f4\">\n",
      "index:  /optimizer_weightstrainingSGDVariable_9:0\n"
     ]
    }
   ],
   "source": [
    "show_levels_of_hdf5(model)"
   ]
  },
  {
   "cell_type": "code",
   "execution_count": 40,
   "metadata": {
    "collapsed": false
   },
   "outputs": [
    {
     "data": {
      "text/plain": [
       "False"
      ]
     },
     "execution_count": 40,
     "metadata": {},
     "output_type": "execute_result"
    }
   ],
   "source": [
    "hasattr(model[\"/model_weights/conv2d_1/conv2d_1/bias:0\"], 'keys')"
   ]
  },
  {
   "cell_type": "code",
   "execution_count": null,
   "metadata": {
    "collapsed": true
   },
   "outputs": [],
   "source": []
  }
 ],
 "metadata": {
  "kernelspec": {
   "display_name": "Python 3",
   "language": "python",
   "name": "python3"
  },
  "language_info": {
   "codemirror_mode": {
    "name": "ipython",
    "version": 3
   },
   "file_extension": ".py",
   "mimetype": "text/x-python",
   "name": "python",
   "nbconvert_exporter": "python",
   "pygments_lexer": "ipython3",
   "version": "3.6.0"
  }
 },
 "nbformat": 4,
 "nbformat_minor": 2
}
