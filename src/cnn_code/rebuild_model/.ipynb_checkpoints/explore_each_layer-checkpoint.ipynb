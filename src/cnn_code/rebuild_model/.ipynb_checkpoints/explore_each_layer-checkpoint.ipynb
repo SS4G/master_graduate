{
 "cells": [
  {
   "cell_type": "code",
   "execution_count": 1,
   "metadata": {
    "collapsed": false
   },
   "outputs": [
    {
     "name": "stderr",
     "output_type": "stream",
     "text": [
      "Using TensorFlow backend.\n"
     ]
    }
   ],
   "source": [
    "import h5py\n",
    "import numpy as np\n",
    "from keras.models import Sequential, load_model, Model\n",
    "import pickle\n",
    "from keras.layers import Dense,Flatten,Conv2D,MaxPool2D\n",
    "from keras.optimizers import SGD\n",
    "from keras.utils import to_categorical\n",
    "import cv2\n",
    "import os\n",
    "import json\n",
    "import sys"
   ]
  },
  {
   "cell_type": "code",
   "execution_count": 3,
   "metadata": {
    "collapsed": false
   },
   "outputs": [
    {
     "data": {
      "text/plain": [
       "dict_keys(['input', 'conv2d_1', 'max_pooling2d_1', 'conv2d_2', 'max_pooling2d_2', 'dense_1_layer', 'dense_2_layer', 'dense_3_layer'])"
      ]
     },
     "execution_count": 3,
     "metadata": {},
     "output_type": "execute_result"
    }
   ],
   "source": [
    "with open(\"data/each_layer_output_mats.pickle\", \"rb\") as f:\n",
    "     mats = pickle.load(f)\n",
    "mats.keys()"
   ]
  },
  {
   "cell_type": "code",
   "execution_count": 4,
   "metadata": {
    "collapsed": false
   },
   "outputs": [
    {
     "data": {
      "text/plain": [
       "array([[[[ 0],\n",
       "         [ 1],\n",
       "         [ 2],\n",
       "         ...,\n",
       "         [32],\n",
       "         [33],\n",
       "         [34]],\n",
       "\n",
       "        [[ 0],\n",
       "         [ 1],\n",
       "         [ 2],\n",
       "         ...,\n",
       "         [32],\n",
       "         [33],\n",
       "         [34]],\n",
       "\n",
       "        [[ 0],\n",
       "         [ 1],\n",
       "         [ 2],\n",
       "         ...,\n",
       "         [32],\n",
       "         [33],\n",
       "         [34]],\n",
       "\n",
       "        ...,\n",
       "\n",
       "        [[ 0],\n",
       "         [ 1],\n",
       "         [ 2],\n",
       "         ...,\n",
       "         [32],\n",
       "         [33],\n",
       "         [34]],\n",
       "\n",
       "        [[ 0],\n",
       "         [ 1],\n",
       "         [ 2],\n",
       "         ...,\n",
       "         [32],\n",
       "         [33],\n",
       "         [34]],\n",
       "\n",
       "        [[ 0],\n",
       "         [ 1],\n",
       "         [ 2],\n",
       "         ...,\n",
       "         [32],\n",
       "         [33],\n",
       "         [34]]]])"
      ]
     },
     "execution_count": 4,
     "metadata": {},
     "output_type": "execute_result"
    }
   ],
   "source": [
    "model = load_model('data/lenet5_relu_model.h5')\n",
    "conv2d_1_layer = model.get_layer(\"conv2d_1\")\n",
    "max_pooling2d_1_layer = model.get_layer(\"max_pooling2d_1\")\n",
    "conv2d_2_layer = model.get_layer(\"conv2d_2\")\n",
    "max_pooling2d_2_layer = model.get_layer(\"max_pooling2d_2\")\n",
    "dense_1_layer = model.get_layer(\"dense_1\")\n",
    "dense_2_layer = model.get_layer(\"dense_2\")\n",
    "dense_3_layer = model.get_layer(\"dense_3\")\n",
    "\n",
    "    layers = {}\n",
    "    layers[\"conv2d_1\"] = conv2d_1_layer\n",
    "    layers[\"max_pooling2d_1\"] = max_pooling2d_1_layer\n",
    "    layers[\"conv2d_2\"] = conv2d_2_layer\n",
    "    layers[\"max_pooling2d_2\"] = max_pooling2d_2_layer\n",
    "    layers[\"dense_1_layer\"] = dense_1_layer\n",
    "    layers[\"dense_2_layer\"] = dense_2_layer\n",
    "    layers[\"dense_3_layer\"] = dense_3_layer\n"
   ]
  },
  {
   "cell_type": "code",
   "execution_count": null,
   "metadata": {
    "collapsed": true
   },
   "outputs": [],
   "source": []
  }
 ],
 "metadata": {
  "kernelspec": {
   "display_name": "Python 3",
   "language": "python",
   "name": "python3"
  },
  "language_info": {
   "codemirror_mode": {
    "name": "ipython",
    "version": 3
   },
   "file_extension": ".py",
   "mimetype": "text/x-python",
   "name": "python",
   "nbconvert_exporter": "python",
   "pygments_lexer": "ipython3",
   "version": "3.6.0"
  }
 },
 "nbformat": 4,
 "nbformat_minor": 2
}
