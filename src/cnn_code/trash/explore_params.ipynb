{
 "cells": [
  {
   "cell_type": "code",
   "execution_count": 61,
   "metadata": {
    "collapsed": false
   },
   "outputs": [],
   "source": [
    "import h5py\n",
    "import numpy as np"
   ]
  },
  {
   "cell_type": "code",
   "execution_count": 62,
   "metadata": {
    "collapsed": false
   },
   "outputs": [
    {
     "name": "stdout",
     "output_type": "stream",
     "text": [
      "dataSets_explore_params.db      \u001b[0m\u001b[01;34mMNIST_data\u001b[0m/\r\n",
      "\u001b[01;34mGTSRB_train_jpgs\u001b[0m/               relu_GTSRB_model_explore_params.h5\r\n",
      "\u001b[01;31mGTSRB_Train_jpgs.zip\u001b[0m            relu_GTSRB_model.h5\r\n",
      "image_info.csv                  \u001b[01;34mtrash\u001b[0m/\r\n",
      "keras_lenet5_explore_params.py  unstandard_file.csv\r\n",
      "keras_lenet5_succeed.py         Untitled.ipynb\r\n",
      "minist_test.py                  模型文件结构.txt\r\n"
     ]
    }
   ],
   "source": [
    "ls"
   ]
  },
  {
   "cell_type": "code",
   "execution_count": 63,
   "metadata": {
    "collapsed": true
   },
   "outputs": [],
   "source": [
    "model = h5py.File(\"relu_GTSRB_model.h5\")"
   ]
  },
  {
   "cell_type": "code",
   "execution_count": 64,
   "metadata": {
    "collapsed": false
   },
   "outputs": [
    {
     "data": {
      "text/plain": [
       "['model_weights', 'optimizer_weights']"
      ]
     },
     "execution_count": 64,
     "metadata": {},
     "output_type": "execute_result"
    }
   ],
   "source": [
    "list(model.keys())"
   ]
  },
  {
   "cell_type": "code",
   "execution_count": 65,
   "metadata": {
    "collapsed": false
   },
   "outputs": [],
   "source": [
    "model_weights = model['model_weights']"
   ]
  },
  {
   "cell_type": "code",
   "execution_count": 66,
   "metadata": {
    "collapsed": false,
    "scrolled": true
   },
   "outputs": [
    {
     "data": {
      "text/plain": [
       "['conv2d_1',\n",
       " 'conv2d_2',\n",
       " 'dense_1',\n",
       " 'dense_2',\n",
       " 'dense_3',\n",
       " 'flatten_1',\n",
       " 'max_pooling2d_1',\n",
       " 'max_pooling2d_2']"
      ]
     },
     "execution_count": 66,
     "metadata": {},
     "output_type": "execute_result"
    }
   ],
   "source": [
    "list(model_weights.keys())"
   ]
  },
  {
   "cell_type": "code",
   "execution_count": 67,
   "metadata": {
    "collapsed": false
   },
   "outputs": [
    {
     "data": {
      "text/plain": [
       "KeysView(<HDF5 group \"/model_weights/conv2d_1/conv2d_1\" (2 members)>)"
      ]
     },
     "execution_count": 67,
     "metadata": {},
     "output_type": "execute_result"
    }
   ],
   "source": [
    "model_weights['conv2d_1']['conv2d_1'].keys()"
   ]
  },
  {
   "cell_type": "code",
   "execution_count": 68,
   "metadata": {
    "collapsed": false
   },
   "outputs": [
    {
     "data": {
      "text/plain": [
       "[<HDF5 group \"/model_weights/conv2d_1\" (1 members)>,\n",
       " <HDF5 group \"/model_weights/conv2d_2\" (1 members)>,\n",
       " <HDF5 group \"/model_weights/dense_1\" (1 members)>,\n",
       " <HDF5 group \"/model_weights/dense_2\" (1 members)>,\n",
       " <HDF5 group \"/model_weights/dense_3\" (1 members)>,\n",
       " <HDF5 group \"/model_weights/flatten_1\" (0 members)>,\n",
       " <HDF5 group \"/model_weights/max_pooling2d_1\" (0 members)>,\n",
       " <HDF5 group \"/model_weights/max_pooling2d_2\" (0 members)>]"
      ]
     },
     "execution_count": 68,
     "metadata": {},
     "output_type": "execute_result"
    }
   ],
   "source": [
    "list(model_weights.values())"
   ]
  },
  {
   "cell_type": "code",
   "execution_count": 69,
   "metadata": {
    "collapsed": false
   },
   "outputs": [
    {
     "data": {
      "text/plain": [
       "<HDF5 dataset \"bias:0\": shape (6,), type \"<f4\">"
      ]
     },
     "execution_count": 69,
     "metadata": {},
     "output_type": "execute_result"
    }
   ],
   "source": [
    "model_weights['conv2d_1']['conv2d_1']['bias:0']"
   ]
  },
  {
   "cell_type": "code",
   "execution_count": 70,
   "metadata": {
    "collapsed": false
   },
   "outputs": [
    {
     "data": {
      "text/plain": [
       "<HDF5 dataset \"bias:0\": shape (6,), type \"<f4\">"
      ]
     },
     "execution_count": 70,
     "metadata": {},
     "output_type": "execute_result"
    }
   ],
   "source": [
    "model[\"/model_weights/conv2d_1/conv2d_1/bias:0\"]"
   ]
  },
  {
   "cell_type": "code",
   "execution_count": 71,
   "metadata": {
    "collapsed": false
   },
   "outputs": [
    {
     "ename": "AttributeError",
     "evalue": "'Dataset' object has no attribute 'keys'",
     "traceback": [
      "\u001b[0;31m---------------------------------------------------------------------------\u001b[0m",
      "\u001b[0;31mAttributeError\u001b[0m                            Traceback (most recent call last)",
      "\u001b[0;32m<ipython-input-71-b4446dd54403>\u001b[0m in \u001b[0;36m<module>\u001b[0;34m()\u001b[0m\n\u001b[0;32m----> 1\u001b[0;31m \u001b[0mlist\u001b[0m\u001b[0;34m(\u001b[0m\u001b[0mmodel\u001b[0m\u001b[0;34m[\u001b[0m\u001b[0;34m\"/model_weights/conv2d_1/conv2d_1/bias:0\"\u001b[0m\u001b[0;34m]\u001b[0m\u001b[0;34m.\u001b[0m\u001b[0mkeys\u001b[0m\u001b[0;34m(\u001b[0m\u001b[0;34m)\u001b[0m\u001b[0;34m)\u001b[0m\u001b[0;34m\u001b[0m\u001b[0m\n\u001b[0m",
      "\u001b[0;31mAttributeError\u001b[0m: 'Dataset' object has no attribute 'keys'"
     ],
     "output_type": "error"
    }
   ],
   "source": [
    "list(model[\"/model_weights/conv2d_1/conv2d_1/bias:0\"].keys())"
   ]
  },
  {
   "cell_type": "code",
   "execution_count": 72,
   "metadata": {
    "collapsed": true
   },
   "outputs": [],
   "source": [
    "def show_levels_of_hdf5(root_h5obj, indent=0, index='', indent_str='    '):\n",
    "    if hasattr(root_h5obj, 'keys'):\n",
    "        keys = list(root_h5obj.keys())\n",
    "        for key in keys:\n",
    "            print(indent * indent_str + str(key))\n",
    "            show_levels_of_hdf5(root_h5obj[key], indent + 1, index=index + '/' + key)\n",
    "    else:\n",
    "        print(indent * indent_str + \"type :  \" + str(type(root_h5obj)))\n",
    "        print(indent * indent_str + \"value:  \" + str(root_h5obj))\n",
    "        print(indent * indent_str + \"index:  \" + index)\n",
    "        zeros = np.zeros((400, 120))\n",
    "        "
   ]
  },
  {
   "cell_type": "code",
   "execution_count": 74,
   "metadata": {
    "collapsed": false
   },
   "outputs": [],
   "source": [
    "#show_levels_of_hdf5(model)\n",
    "\n",
    "model['/model_weights/dense_1/dense_1/kernel:0'].read_direct(zeros)"
   ]
  },
  {
   "cell_type": "code",
   "execution_count": 76,
   "metadata": {
    "collapsed": false
   },
   "outputs": [
    {
     "data": {
      "text/plain": [
       "0.09718753397464752"
      ]
     },
     "execution_count": 76,
     "metadata": {},
     "output_type": "execute_result"
    }
   ],
   "source": []
  },
  {
   "cell_type": "code",
   "execution_count": null,
   "metadata": {
    "collapsed": true
   },
   "outputs": [],
   "source": []
  }
 ],
 "metadata": {
  "kernelspec": {
   "display_name": "Python 3",
   "language": "python",
   "name": "python3"
  },
  "language_info": {
   "codemirror_mode": {
    "name": "ipython",
    "version": 3
   },
   "file_extension": ".py",
   "mimetype": "text/x-python",
   "name": "python",
   "nbconvert_exporter": "python",
   "pygments_lexer": "ipython3",
   "version": "3.6.0"
  }
 },
 "nbformat": 4,
 "nbformat_minor": 2
}
