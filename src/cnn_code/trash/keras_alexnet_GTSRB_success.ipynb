{
 "cells": [
  {
   "cell_type": "code",
   "execution_count": 1,
   "metadata": {},
   "outputs": [
    {
     "name": "stderr",
     "output_type": "stream",
     "text": [
      "Using TensorFlow backend.\n"
     ]
    },
    {
     "name": "stdout",
     "output_type": "stream",
     "text": [
      "WARNING:tensorflow:From /data00/home/songziheng/.local/lib/python3.6/site-packages/tensorflow/contrib/learn/python/learn/datasets/base.py:198: retry (from tensorflow.contrib.learn.python.learn.datasets.base) is deprecated and will be removed in a future version.\n",
      "Instructions for updating:\n",
      "Use the retry module or similar alternatives.\n"
     ]
    }
   ],
   "source": [
    "import pandas as pd\n",
    "import numpy as np\n",
    "import cv2\n",
    "from keras.datasets import mnist\n",
    "from keras.models import Sequential\n",
    "from keras.layers import Dense,Flatten,Conv2D,MaxPooling2D,Dropout\n",
    "from keras.optimizers import SGD\n",
    "from keras.utils import to_categorical\n",
    "import os\n",
    "from sklearn.model_selection import train_test_split\n",
    "from tensorflow.examples.tutorials.mnist import input_data\n",
    "from  tqdm import tqdm\n"
   ]
  },
  {
   "cell_type": "code",
   "execution_count": 2,
   "metadata": {},
   "outputs": [],
   "source": [
    "#mnist = input_data.read_data_sets(\"MNIST_data/\", one_hot=True)\n",
    "\n",
    "#_train, y_train = mnist.train.images,mnist.train.labels\n",
    "#x_test, y_test = mnist.test.images, mnist.test.labels"
   ]
  },
  {
   "cell_type": "code",
   "execution_count": 3,
   "metadata": {},
   "outputs": [],
   "source": [
    "#x_train.shape"
   ]
  },
  {
   "cell_type": "code",
   "execution_count": 4,
   "metadata": {},
   "outputs": [],
   "source": [
    "#y_test.shape"
   ]
  },
  {
   "cell_type": "code",
   "execution_count": 5,
   "metadata": {},
   "outputs": [],
   "source": [
    "DST_SIZE = (227, 227, 3)\n",
    "CLASS_NUM = 43\n",
    "ACT_FUNC = 'relu'#'sigmoid'#'relu'#'tanh'"
   ]
  },
  {
   "cell_type": "code",
   "execution_count": null,
   "metadata": {},
   "outputs": [],
   "source": []
  },
  {
   "cell_type": "markdown",
   "metadata": {},
   "source": [
    "#### 标准的形式 x_trainReshaped.shape (55000, 28, 28, 1) amount height width channel"
   ]
  },
  {
   "cell_type": "code",
   "execution_count": 6,
   "metadata": {},
   "outputs": [],
   "source": [
    "names = pd.read_csv(\"unstandard_file.csv\")\n",
    "blacklistSet = names[\"Filename\"]"
   ]
  },
  {
   "cell_type": "code",
   "execution_count": 7,
   "metadata": {},
   "outputs": [
    {
     "name": "stderr",
     "output_type": "stream",
     "text": [
      "100%|██████████| 39209/39209 [00:13<00:00, 2809.02it/s]\n"
     ]
    }
   ],
   "source": [
    "imgList = []\n",
    "imageDir = \"GTSRB_train_jpgs/\"\n",
    "\n",
    "label = []\n",
    "for file in tqdm(os.listdir(imageDir)):\n",
    "    if file not in blacklistSet:\n",
    "        label.append(int(file.split(\"#\")[0]))\n",
    "        #mat = cv2.resize(cv2.cvtColor(cv2.imread(imageDir + file), cv2.COLOR_BGR2GRAY), (DST_SIZE[0], DST_SIZE[1]))\n",
    "        mat = cv2.resize(cv2.imread(imageDir + file), (DST_SIZE[0], DST_SIZE[1]))\n",
    "        mat = mat.reshape(DST_SIZE)\n",
    "        imgList.append(mat) \n",
    "xset = np.array(imgList)\n",
    "yset = np.array(label)"
   ]
  },
  {
   "cell_type": "code",
   "execution_count": 8,
   "metadata": {},
   "outputs": [
    {
     "name": "stdout",
     "output_type": "stream",
     "text": [
      "(39209, 227, 227, 3) (39209,)\n"
     ]
    }
   ],
   "source": [
    "print(xset.shape, yset.shape)"
   ]
  },
  {
   "cell_type": "code",
   "execution_count": 9,
   "metadata": {},
   "outputs": [
    {
     "data": {
      "text/plain": [
       "(39209, 43)"
      ]
     },
     "execution_count": 9,
     "metadata": {},
     "output_type": "execute_result"
    }
   ],
   "source": [
    "yset_onehot=to_categorical(yset,num_classes=CLASS_NUM)\n",
    "yset_onehot.shape"
   ]
  },
  {
   "cell_type": "code",
   "execution_count": 10,
   "metadata": {},
   "outputs": [],
   "source": [
    "train_x, test_x, train_y, test_y = train_test_split(xset, yset_onehot, test_size=0.1, random_state=42)"
   ]
  },
  {
   "cell_type": "code",
   "execution_count": 13,
   "metadata": {},
   "outputs": [
    {
     "name": "stdout",
     "output_type": "stream",
     "text": [
      "train_x (35288, 227, 227, 3)\n",
      "train_y (35288, 43)\n",
      "test_x (3921, 227, 227, 3)\n",
      "test_y (3921, 43)\n"
     ]
    }
   ],
   "source": [
    "print(\"train_x\", train_x.shape)\n",
    "print(\"train_y\", train_y.shape)\n",
    "print(\"test_x\", test_x.shape)\n",
    "print(\"test_y\", test_y.shape)"
   ]
  },
  {
   "cell_type": "code",
   "execution_count": 14,
   "metadata": {},
   "outputs": [
    {
     "name": "stdout",
     "output_type": "stream",
     "text": [
      "_________________________________________________________________\n",
      "Layer (type)                 Output Shape              Param #   \n",
      "=================================================================\n",
      "conv2d_6 (Conv2D)            (None, 55, 55, 96)        34944     \n",
      "_________________________________________________________________\n",
      "max_pooling2d_4 (MaxPooling2 (None, 27, 27, 96)        0         \n",
      "_________________________________________________________________\n",
      "conv2d_7 (Conv2D)            (None, 27, 27, 256)       614656    \n",
      "_________________________________________________________________\n",
      "max_pooling2d_5 (MaxPooling2 (None, 13, 13, 256)       0         \n",
      "_________________________________________________________________\n",
      "conv2d_8 (Conv2D)            (None, 13, 13, 384)       885120    \n",
      "_________________________________________________________________\n",
      "conv2d_9 (Conv2D)            (None, 13, 13, 384)       1327488   \n",
      "_________________________________________________________________\n",
      "conv2d_10 (Conv2D)           (None, 13, 13, 256)       884992    \n",
      "_________________________________________________________________\n",
      "max_pooling2d_6 (MaxPooling2 (None, 6, 6, 256)         0         \n",
      "_________________________________________________________________\n",
      "flatten_2 (Flatten)          (None, 9216)              0         \n",
      "_________________________________________________________________\n",
      "dense_4 (Dense)              (None, 4096)              37752832  \n",
      "_________________________________________________________________\n",
      "dropout_3 (Dropout)          (None, 4096)              0         \n",
      "_________________________________________________________________\n",
      "dense_5 (Dense)              (None, 4096)              16781312  \n",
      "_________________________________________________________________\n",
      "dropout_4 (Dropout)          (None, 4096)              0         \n",
      "_________________________________________________________________\n",
      "dense_6 (Dense)              (None, 43)                176171    \n",
      "=================================================================\n",
      "Total params: 58,457,515\n",
      "Trainable params: 58,457,515\n",
      "Non-trainable params: 0\n",
      "_________________________________________________________________\n",
      "Train on 35288 samples, validate on 3921 samples\n",
      "Epoch 1/2\n",
      "35288/35288 [==============================] - 876s 25ms/step - loss: 15.2621 - acc: 0.0531 - val_loss: 15.2384 - val_acc: 0.0546\n",
      "Epoch 2/2\n",
      "35288/35288 [==============================] - 882s 25ms/step - loss: 15.2567 - acc: 0.0534 - val_loss: 15.2384 - val_acc: 0.0546\n",
      "3921/3921 [==============================] - 20s 5ms/step\n",
      "Total loss on Testing Set: 15.238403131572058\n",
      "Accuracy of Testing Set: 0.05457791379750064\n"
     ]
    }
   ],
   "source": [
    "# create model\n",
    "model = Sequential()  \n",
    "model.add(Conv2D(96,(11,11),strides=(4,4),input_shape=DST_SIZE ,padding='valid',activation=ACT_FUNC,kernel_initializer='uniform'))  \n",
    "model.add(MaxPooling2D(pool_size=(3,3),strides=(2,2)))  \n",
    "model.add(Conv2D(256,(5,5),strides=(1,1),padding='same',activation=ACT_FUNC, kernel_initializer='uniform'))  \n",
    "model.add(MaxPooling2D(pool_size=(3,3),strides=(2,2)))  \n",
    "model.add(Conv2D(384,(3,3),strides=(1,1),padding='same',activation=ACT_FUNC, kernel_initializer='uniform'))  \n",
    "model.add(Conv2D(384,(3,3),strides=(1,1),padding='same',activation=ACT_FUNC, kernel_initializer='uniform'))  \n",
    "model.add(Conv2D(256,(3,3),strides=(1,1),padding='same',activation=ACT_FUNC, kernel_initializer='uniform'))  \n",
    "model.add(MaxPooling2D(pool_size=(3,3),strides=(2,2)))  \n",
    "model.add(Flatten())  \n",
    "model.add(Dense(4096,activation=ACT_FUNC))  \n",
    "model.add(Dropout(0.5))  \n",
    "model.add(Dense(4096,activation=ACT_FUNC))  \n",
    "model.add(Dropout(0.5))  \n",
    "model.add(Dense(CLASS_NUM,activation='softmax'))  \n",
    "model.compile(loss='categorical_crossentropy',optimizer='sgd',metrics=['accuracy'])  \n",
    "model.summary()  \n",
    "#事实证明，对于分类问题，使用交叉熵(cross entropy)作为损失函数更好些\n",
    "model.compile(\n",
    "    loss='categorical_crossentropy',\n",
    "    optimizer=SGD(lr=0.1),\n",
    "    metrics=['accuracy']\n",
    ")\n",
    "\n",
    "#train model\n",
    "model.fit(train_x, train_y,\n",
    "          batch_size=128,\n",
    "          epochs=2, \n",
    "          verbose = 1,\n",
    "          validation_data = (test_x, test_y))\n",
    "\n",
    "#evaluate model\n",
    "\n",
    "score = model.evaluate(test_x,test_y)\n",
    "print(\"Total loss on Testing Set:\", score[0])\n",
    "print(\"Accuracy of Testing Set:\", score[1])"
   ]
  },
  {
   "cell_type": "code",
   "execution_count": null,
   "metadata": {},
   "outputs": [],
   "source": []
  }
 ],
 "metadata": {
  "kernelspec": {
   "display_name": "Python 3",
   "language": "python",
   "name": "python3"
  },
  "language_info": {
   "codemirror_mode": {
    "name": "ipython",
    "version": 3
   },
   "file_extension": ".py",
   "mimetype": "text/x-python",
   "name": "python",
   "nbconvert_exporter": "python",
   "pygments_lexer": "ipython3",
   "version": "3.6.4"
  }
 },
 "nbformat": 4,
 "nbformat_minor": 2
}
