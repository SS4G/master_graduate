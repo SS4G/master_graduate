{
 "cells": [
  {
   "cell_type": "code",
   "execution_count": 8,
   "metadata": {},
   "outputs": [],
   "source": [
    "from collections import defaultdict\n",
    "dixt = {}\n",
    "import json\n",
    "with open(\"tree.txt\", encoding=\"utf-8\") as f:\n",
    "    lines = [line.strip().split(\"/\") for line in f.readlines()]\n",
    "    for line in lines: \n",
    "        tmp = dixt\n",
    "        for cat in line:\n",
    "            if cat not in tmp:\n",
    "                tmp[cat] = {}\n",
    "            tmp = tmp[cat]\n",
    "#print(dixt)\n",
    "s = json.dumps(dixt)"
   ]
  },
  {
   "cell_type": "code",
   "execution_count": 9,
   "metadata": {},
   "outputs": [
    {
     "name": "stdout",
     "output_type": "stream",
     "text": [
      "88\n"
     ]
    }
   ],
   "source": [
    "print(len(lines))"
   ]
  },
  {
   "cell_type": "code",
   "execution_count": 10,
   "metadata": {},
   "outputs": [
    {
     "data": {
      "text/plain": [
       "'{\"news_health\": {\"sexual_health\": {\"kidney_care\": {}, \"women_health\": {\"other\": {}, \"gynecology\": {}}, \"men_health\": {}, \"sex_sk\": {}, \"other\": {}, \"women_\": {}, \"men_he\": {}, \"sex_skill\": {}, \"kidney\": {}}, \"fitness\": {}, \"obstetric\": {}, \"cancer\": {\"breast_cancer\": {}, \"other\": {}, \"liver_cancer\": {}, \"stomach_cance\": {}, \"stomach_cancer\": {}}, \"disease\": {}, \"mental_health\": {\"mental_disease\": {}, \"other\": {}, \"anxiety_disorders\": {}, \"autism\": {}, \"mental\": {}, \"melancholia\": {}, \"anxiet\": {}, \"melanc\": {}}, \"heredity\": {}, \"angiocardiopathy\": {}, \"plastic_surgery\": {\"cup_\": {}, \"other\": {}, \"othe\": {}, \"cup_up\": {}}, \"medicine\": {\"other\": {}, \"medicine_introduction\": {}}, \"nursing\": {}, \"regimen\": {\"other\": {}, \"healthy_eati\": {}, \"sleep\": {}, \"healthy_eating\": {}, \"diet_therapy\": {}, \"nutriology\": {}, \"subhealth\": {}}, \"slimming\": {}, \"medical_news\": {\"doctor_\": {}, \"other\": {}, \"healthcare_reform\": {}, \"healthc\": {}, \"doctor_patient_relationship\": {}}, \"gastrointestinal_dis\": {}, \"body_building\": {\"other\": {}, \"yoga\": {}}, \"daily_health\": {}, \"paediatrics\": {}, \"prostate\": {}, \"traditional_chinese_medicine\": {\"acupoint\": {}, \"chinese_herbology\": {}, \"other\": {}}, \"Medical_News\": {\"doctor_patient_relationship\": {}}, \"health_care_food:\\\\u00b1\\\\u00a3\\\\u00bd\\\\u00a1\\\\u00c6\\\\u00b7\": {}, \"flu\": {}, \"women_helath\": {}, \"women_health\": {}, \"respiratory_disease\": {}, \"skin_disease\": {}, \"health_care_food\": {}, \"other\": {}, \"infectious_disease\": {}, \"oral_care\": {}, \"traditional_chinese_\": {}, \"cervical_spondylosis\": {}, \"men_health\": {}, \"health_soft\": {}, \"gastrointestinal_diseases\": {}}, \"video_health\": {\"video_health_others\": {}, \"other\": {}, \"video_health_goodlife\": {}, \"video_fitting\": {}, \"video_health_goodli\": {}}}'"
      ]
     },
     "execution_count": 10,
     "metadata": {},
     "output_type": "execute_result"
    }
   ],
   "source": [
    "s"
   ]
  },
  {
   "cell_type": "code",
   "execution_count": null,
   "metadata": {},
   "outputs": [],
   "source": []
  }
 ],
 "metadata": {
  "kernelspec": {
   "display_name": "Python 3",
   "language": "python",
   "name": "python3"
  },
  "language_info": {
   "codemirror_mode": {
    "name": "ipython",
    "version": 3
   },
   "file_extension": ".py",
   "mimetype": "text/x-python",
   "name": "python",
   "nbconvert_exporter": "python",
   "pygments_lexer": "ipython3",
   "version": "3.6.4"
  }
 },
 "nbformat": 4,
 "nbformat_minor": 2
}
