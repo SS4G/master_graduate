{
 "cells": [
  {
   "cell_type": "code",
   "execution_count": 1,
   "metadata": {},
   "outputs": [
    {
     "name": "stderr",
     "output_type": "stream",
     "text": [
      "Using TensorFlow backend.\n"
     ]
    },
    {
     "name": "stdout",
     "output_type": "stream",
     "text": [
      "WARNING:tensorflow:From /data00/home/songziheng/.local/lib/python3.6/site-packages/tensorflow/contrib/learn/python/learn/datasets/base.py:198: retry (from tensorflow.contrib.learn.python.learn.datasets.base) is deprecated and will be removed in a future version.\n",
      "Instructions for updating:\n",
      "Use the retry module or similar alternatives.\n"
     ]
    }
   ],
   "source": [
    "import pandas as pd\n",
    "import numpy as np\n",
    "import cv2\n",
    "from keras.datasets import mnist\n",
    "from keras.models import Sequential\n",
    "from keras.layers import Dense,Flatten,Conv2D,MaxPool2D\n",
    "from keras.optimizers import SGD\n",
    "from keras.utils import to_categorical\n",
    "import os\n",
    "from sklearn.model_selection import train_test_split\n",
    "from tensorflow.examples.tutorials.mnist import input_data\n",
    "from  tqdm import tqdm\n"
   ]
  },
  {
   "cell_type": "code",
   "execution_count": 2,
   "metadata": {},
   "outputs": [],
   "source": [
    "#mnist = input_data.read_data_sets(\"MNIST_data/\", one_hot=True)\n",
    "\n",
    "#_train, y_train = mnist.train.images,mnist.train.labels\n",
    "#x_test, y_test = mnist.test.images, mnist.test.labels"
   ]
  },
  {
   "cell_type": "code",
   "execution_count": 3,
   "metadata": {},
   "outputs": [],
   "source": [
    "#x_train.shape"
   ]
  },
  {
   "cell_type": "code",
   "execution_count": 4,
   "metadata": {},
   "outputs": [],
   "source": [
    "#y_test.shape"
   ]
  },
  {
   "cell_type": "code",
   "execution_count": 5,
   "metadata": {},
   "outputs": [],
   "source": [
    "DST_SIZE = (35, 35, 1)\n",
    "CLASS_NUM = 43\n",
    "ACT_FUNC = 'tanh'#'sigmoid'#'relu'#'tanh'"
   ]
  },
  {
   "cell_type": "code",
   "execution_count": null,
   "metadata": {},
   "outputs": [],
   "source": []
  },
  {
   "cell_type": "markdown",
   "metadata": {},
   "source": [
    "#### 标准的形式 x_trainReshaped.shape (55000, 28, 28, 1) amount height width channel"
   ]
  },
  {
   "cell_type": "code",
   "execution_count": 6,
   "metadata": {},
   "outputs": [],
   "source": [
    "names = pd.read_csv(\"unstandard_file.csv\")\n",
    "blacklistSet = names[\"Filename\"]"
   ]
  },
  {
   "cell_type": "code",
   "execution_count": 7,
   "metadata": {},
   "outputs": [],
   "source": [
    "notype = {22,36,40,20,   21,   39,   24,   29,   32,   42,   41,   27,   37,   19,   0}"
   ]
  },
  {
   "cell_type": "code",
   "execution_count": 8,
   "metadata": {},
   "outputs": [
    {
     "name": "stderr",
     "output_type": "stream",
     "text": [
      "100%|██████████| 39209/39209 [00:06<00:00, 5932.85it/s]\n"
     ]
    }
   ],
   "source": [
    "imgList = []\n",
    "imageDir = \"GTSRB_train_jpgs/\"\n",
    "\n",
    "label = []\n",
    "for file in tqdm(os.listdir(imageDir)):\n",
    "    imgtype = int(file.split(\"#\")[0])\n",
    "    if file not in blacklistSet and imgtype not in notype:\n",
    "        label.append(imgtype)\n",
    "        mat = cv2.resize(cv2.cvtColor(cv2.imread(imageDir + file), cv2.COLOR_BGR2GRAY), (DST_SIZE[0], DST_SIZE[1]))\n",
    "        mat = mat.reshape(DST_SIZE)\n",
    "        imgList.append(mat) \n",
    "xset = np.array(imgList)\n",
    "yset = np.array(label)"
   ]
  },
  {
   "cell_type": "code",
   "execution_count": 9,
   "metadata": {},
   "outputs": [
    {
     "name": "stdout",
     "output_type": "stream",
     "text": [
      "(34949, 35, 35, 1) (34949,)\n"
     ]
    }
   ],
   "source": [
    "print(xset.shape, yset.shape)"
   ]
  },
  {
   "cell_type": "code",
   "execution_count": 10,
   "metadata": {},
   "outputs": [
    {
     "data": {
      "text/plain": [
       "(34949, 43)"
      ]
     },
     "execution_count": 10,
     "metadata": {},
     "output_type": "execute_result"
    }
   ],
   "source": [
    "yset_onehot=to_categorical(yset,num_classes=CLASS_NUM)\n",
    "yset_onehot.shape"
   ]
  },
  {
   "cell_type": "code",
   "execution_count": 11,
   "metadata": {},
   "outputs": [],
   "source": [
    "train_x, test_x, train_y, test_y = train_test_split(xset, yset_onehot, test_size=0.1, random_state=42)"
   ]
  },
  {
   "cell_type": "code",
   "execution_count": 12,
   "metadata": {},
   "outputs": [
    {
     "name": "stdout",
     "output_type": "stream",
     "text": [
      "train_x (31454, 35, 35, 1)\n",
      "train_y (31454, 43)\n",
      "test_x (3495, 35, 35, 1)\n",
      "test_y (3495, 43)\n"
     ]
    }
   ],
   "source": [
    "print(\"train_x\", train_x.shape)\n",
    "print(\"train_y\", train_y.shape)\n",
    "print(\"test_x\", test_x.shape)\n",
    "print(\"test_y\", test_y.shape)"
   ]
  },
  {
   "cell_type": "code",
   "execution_count": 13,
   "metadata": {},
   "outputs": [
    {
     "name": "stdout",
     "output_type": "stream",
     "text": [
      "Train on 31454 samples, validate on 3495 samples\n",
      "Epoch 1/30\n",
      "31454/31454 [==============================] - 10s 323us/step - loss: 15.7093 - acc: 0.0226 - val_loss: 15.8091 - val_acc: 0.0192\n",
      "Epoch 2/30\n",
      "31454/31454 [==============================] - 10s 307us/step - loss: 15.7532 - acc: 0.0226 - val_loss: 15.8091 - val_acc: 0.0192\n",
      "Epoch 3/30\n",
      "31454/31454 [==============================] - 10s 322us/step - loss: 15.7532 - acc: 0.0226 - val_loss: 15.8091 - val_acc: 0.0192\n",
      "Epoch 4/30\n",
      "31454/31454 [==============================] - 10s 322us/step - loss: 15.7532 - acc: 0.0226 - val_loss: 15.8091 - val_acc: 0.0192\n",
      "Epoch 5/30\n",
      "31454/31454 [==============================] - 10s 334us/step - loss: 15.7532 - acc: 0.0226 - val_loss: 15.8091 - val_acc: 0.0192\n",
      "Epoch 6/30\n",
      "31454/31454 [==============================] - 11s 363us/step - loss: 15.7532 - acc: 0.0226 - val_loss: 15.8091 - val_acc: 0.0192\n",
      "Epoch 7/30\n",
      "31454/31454 [==============================] - 11s 351us/step - loss: 15.7532 - acc: 0.0226 - val_loss: 15.8091 - val_acc: 0.0192\n",
      "Epoch 8/30\n",
      "31454/31454 [==============================] - 10s 319us/step - loss: 15.7532 - acc: 0.0226 - val_loss: 15.8091 - val_acc: 0.0192\n",
      "Epoch 9/30\n",
      "31454/31454 [==============================] - 11s 342us/step - loss: 15.7532 - acc: 0.0226 - val_loss: 15.8091 - val_acc: 0.0192\n",
      "Epoch 10/30\n",
      "31454/31454 [==============================] - 12s 368us/step - loss: 15.7532 - acc: 0.0226 - val_loss: 15.8091 - val_acc: 0.0192\n",
      "Epoch 11/30\n",
      "31454/31454 [==============================] - 12s 397us/step - loss: 15.7532 - acc: 0.0226 - val_loss: 15.8091 - val_acc: 0.0192\n",
      "Epoch 12/30\n",
      "31454/31454 [==============================] - 12s 369us/step - loss: 15.7532 - acc: 0.0226 - val_loss: 15.8091 - val_acc: 0.0192\n",
      "Epoch 13/30\n",
      "31454/31454 [==============================] - 14s 450us/step - loss: 15.7532 - acc: 0.0226 - val_loss: 15.8091 - val_acc: 0.0192\n",
      "Epoch 14/30\n",
      "31454/31454 [==============================] - 13s 427us/step - loss: 15.7532 - acc: 0.0226 - val_loss: 15.8091 - val_acc: 0.0192\n",
      "Epoch 15/30\n",
      "31454/31454 [==============================] - 13s 427us/step - loss: 15.7532 - acc: 0.0226 - val_loss: 15.8091 - val_acc: 0.0192\n",
      "Epoch 16/30\n",
      "31454/31454 [==============================] - 13s 421us/step - loss: 15.7532 - acc: 0.0226 - val_loss: 15.8091 - val_acc: 0.0192\n",
      "Epoch 17/30\n",
      "31454/31454 [==============================] - 13s 416us/step - loss: 15.7532 - acc: 0.0226 - val_loss: 15.8091 - val_acc: 0.0192\n",
      "Epoch 18/30\n",
      "31454/31454 [==============================] - 16s 501us/step - loss: 15.7532 - acc: 0.0226 - val_loss: 15.8091 - val_acc: 0.0192\n",
      "Epoch 19/30\n",
      "31454/31454 [==============================] - 13s 428us/step - loss: 15.7532 - acc: 0.0226 - val_loss: 15.8091 - val_acc: 0.0192\n",
      "Epoch 20/30\n",
      "31454/31454 [==============================] - 15s 463us/step - loss: 15.7532 - acc: 0.0226 - val_loss: 15.8091 - val_acc: 0.0192\n",
      "Epoch 21/30\n",
      "31454/31454 [==============================] - 14s 435us/step - loss: 15.7532 - acc: 0.0226 - val_loss: 15.8091 - val_acc: 0.0192\n",
      "Epoch 22/30\n",
      "31454/31454 [==============================] - 15s 488us/step - loss: 15.7532 - acc: 0.0226 - val_loss: 15.8091 - val_acc: 0.0192\n",
      "Epoch 23/30\n",
      "31454/31454 [==============================] - 15s 470us/step - loss: 15.7532 - acc: 0.0226 - val_loss: 15.8091 - val_acc: 0.0192\n",
      "Epoch 24/30\n",
      "31454/31454 [==============================] - 15s 462us/step - loss: 15.7532 - acc: 0.0226 - val_loss: 15.8091 - val_acc: 0.0192\n",
      "Epoch 25/30\n",
      "31454/31454 [==============================] - 14s 456us/step - loss: 15.7532 - acc: 0.0226 - val_loss: 15.8091 - val_acc: 0.0192\n",
      "Epoch 26/30\n",
      "31454/31454 [==============================] - 15s 470us/step - loss: 15.7532 - acc: 0.0226 - val_loss: 15.8091 - val_acc: 0.0192\n",
      "Epoch 27/30\n",
      "31454/31454 [==============================] - 14s 461us/step - loss: 15.7532 - acc: 0.0226 - val_loss: 15.8091 - val_acc: 0.0192\n",
      "Epoch 28/30\n",
      "31454/31454 [==============================] - 15s 474us/step - loss: 15.7532 - acc: 0.0226 - val_loss: 15.8091 - val_acc: 0.0192\n",
      "Epoch 29/30\n",
      "31454/31454 [==============================] - 13s 406us/step - loss: 15.7532 - acc: 0.0226 - val_loss: 15.8091 - val_acc: 0.0192\n",
      "Epoch 30/30\n",
      "31454/31454 [==============================] - 13s 417us/step - loss: 15.7532 - acc: 0.0226 - val_loss: 15.8091 - val_acc: 0.0192\n",
      "3495/3495 [==============================] - 1s 239us/step\n",
      "Total loss on Testing Set: 15.809107460382158\n",
      "Accuracy of Testing Set: 0.01917024320457797\n"
     ]
    }
   ],
   "source": [
    "# create model\n",
    "model=Sequential()\n",
    "model.add(Conv2D(filters=6, kernel_size=(5,5), padding='valid', input_shape=DST_SIZE, activation=ACT_FUNC))\n",
    "\n",
    "model.add(MaxPool2D(pool_size=(2,2)))\n",
    "\n",
    "model.add(Conv2D(filters=16, kernel_size=(5,5), padding='valid', activation=ACT_FUNC))\n",
    "\n",
    "model.add(MaxPool2D(pool_size=(2,2)))\n",
    "\n",
    "#池化后变成16个4x4的矩阵，然后把矩阵压平变成一维的，一共256个单元。\n",
    "model.add(Flatten())\n",
    "\n",
    "#下面就是全连接层了\n",
    "model.add(Dense(120, activation=ACT_FUNC))\n",
    "\n",
    "model.add(Dense(84, activation=ACT_FUNC))\n",
    "\n",
    "model.add(Dense(CLASS_NUM, activation='softmax'))\n",
    "#compile model\n",
    "\n",
    "#事实证明，对于分类问题，使用交叉熵(cross entropy)作为损失函数更好些\n",
    "model.compile(\n",
    "    loss='categorical_crossentropy',\n",
    "    optimizer=SGD(lr=0.1),\n",
    "    metrics=['accuracy']\n",
    ")\n",
    "\n",
    "#train model\n",
    "model.fit(train_x, train_y,\n",
    "          batch_size=128,\n",
    "          epochs=30, \n",
    "          verbose = 1,\n",
    "          validation_data = (test_x, test_y))\n",
    "\n",
    "#evaluate model\n",
    "\n",
    "score = model.evaluate(test_x,test_y)\n",
    "print(\"Total loss on Testing Set:\", score[0])\n",
    "print(\"Accuracy of Testing Set:\", score[1])"
   ]
  },
  {
   "cell_type": "code",
   "execution_count": null,
   "metadata": {},
   "outputs": [],
   "source": []
  }
 ],
 "metadata": {
  "kernelspec": {
   "display_name": "Python 3",
   "language": "python",
   "name": "python3"
  },
  "language_info": {
   "codemirror_mode": {
    "name": "ipython",
    "version": 3
   },
   "file_extension": ".py",
   "mimetype": "text/x-python",
   "name": "python",
   "nbconvert_exporter": "python",
   "pygments_lexer": "ipython3",
   "version": "3.6.4"
  }
 },
 "nbformat": 4,
 "nbformat_minor": 2
}
