{
 "cells": [
  {
   "cell_type": "code",
   "execution_count": 1,
   "metadata": {},
   "outputs": [
    {
     "name": "stderr",
     "output_type": "stream",
     "text": [
      "Using TensorFlow backend.\n"
     ]
    },
    {
     "name": "stdout",
     "output_type": "stream",
     "text": [
      "WARNING:tensorflow:From /data00/home/songziheng/.local/lib/python3.6/site-packages/tensorflow/contrib/learn/python/learn/datasets/base.py:198: retry (from tensorflow.contrib.learn.python.learn.datasets.base) is deprecated and will be removed in a future version.\n",
      "Instructions for updating:\n",
      "Use the retry module or similar alternatives.\n"
     ]
    }
   ],
   "source": [
    "import pandas as pd\n",
    "import numpy as np\n",
    "import cv2\n",
    "from keras.datasets import mnist\n",
    "from keras.models import Sequential\n",
    "from keras.layers import Dense,Flatten,Conv2D,MaxPool2D\n",
    "from keras.optimizers import SGD\n",
    "from keras.utils import to_categorical\n",
    "import os\n",
    "from sklearn.model_selection import train_test_split\n",
    "from tensorflow.examples.tutorials.mnist import input_data\n",
    "from  tqdm import tqdm\n"
   ]
  },
  {
   "cell_type": "code",
   "execution_count": 2,
   "metadata": {},
   "outputs": [],
   "source": [
    "#mnist = input_data.read_data_sets(\"MNIST_data/\", one_hot=True)\n",
    "\n",
    "#_train, y_train = mnist.train.images,mnist.train.labels\n",
    "#x_test, y_test = mnist.test.images, mnist.test.labels"
   ]
  },
  {
   "cell_type": "code",
   "execution_count": 3,
   "metadata": {},
   "outputs": [],
   "source": [
    "#x_train.shape"
   ]
  },
  {
   "cell_type": "code",
   "execution_count": 4,
   "metadata": {},
   "outputs": [],
   "source": [
    "#y_test.shape"
   ]
  },
  {
   "cell_type": "code",
   "execution_count": 5,
   "metadata": {},
   "outputs": [],
   "source": [
    "DST_SIZE = (35, 35, 1)\n",
    "CLASS_NUM = 43\n",
    "ACT_FUNC = 'tanh'#'sigmoid'#'relu'#'tanh'"
   ]
  },
  {
   "cell_type": "code",
   "execution_count": null,
   "metadata": {},
   "outputs": [],
   "source": []
  },
  {
   "cell_type": "markdown",
   "metadata": {},
   "source": [
    "#### 标准的形式 x_trainReshaped.shape (55000, 28, 28, 1) amount height width channel"
   ]
  },
  {
   "cell_type": "code",
   "execution_count": 6,
   "metadata": {},
   "outputs": [],
   "source": [
    "names = pd.read_csv(\"unstandard_file.csv\")\n",
    "blacklistSet = names[\"Filename\"]"
   ]
  },
  {
   "cell_type": "code",
   "execution_count": 7,
   "metadata": {},
   "outputs": [],
   "source": [
    "notype = {22,36,40,20,   21,   39,   24,   29,   32,   42,   41,   27,   37,   19,   0}"
   ]
  },
  {
   "cell_type": "code",
   "execution_count": 8,
   "metadata": {},
   "outputs": [
    {
     "name": "stderr",
     "output_type": "stream",
     "text": [
      "100%|██████████| 39209/39209 [00:06<00:00, 5643.10it/s]\n"
     ]
    }
   ],
   "source": [
    "imgList = []\n",
    "imageDir = \"GTSRB_train_jpgs/\"\n",
    "\n",
    "label = []\n",
    "for file in tqdm(os.listdir(imageDir)):\n",
    "    imgtype = int(file.split(\"#\")[0])\n",
    "    if file not in blacklistSet:\n",
    "        label.append(imgtype)\n",
    "        mat = cv2.resize(cv2.cvtColor(cv2.imread(imageDir + file), cv2.COLOR_BGR2GRAY), (DST_SIZE[0], DST_SIZE[1]))\n",
    "        mat = mat.reshape(DST_SIZE)\n",
    "        imgList.append(mat) \n",
    "xset = np.array(imgList)\n",
    "yset = np.array(label)"
   ]
  },
  {
   "cell_type": "code",
   "execution_count": null,
   "metadata": {},
   "outputs": [],
   "source": []
  },
  {
   "cell_type": "code",
   "execution_count": 9,
   "metadata": {},
   "outputs": [],
   "source": [
    "z = np.std(xset)"
   ]
  },
  {
   "cell_type": "code",
   "execution_count": 10,
   "metadata": {},
   "outputs": [],
   "source": [
    "xset = xset / z"
   ]
  },
  {
   "cell_type": "code",
   "execution_count": 11,
   "metadata": {},
   "outputs": [
    {
     "name": "stdout",
     "output_type": "stream",
     "text": [
      "(39209, 35, 35, 1) (39209,)\n"
     ]
    }
   ],
   "source": [
    "print(xset.shape, yset.shape)"
   ]
  },
  {
   "cell_type": "code",
   "execution_count": 12,
   "metadata": {},
   "outputs": [
    {
     "data": {
      "text/plain": [
       "(39209, 43)"
      ]
     },
     "execution_count": 12,
     "metadata": {},
     "output_type": "execute_result"
    }
   ],
   "source": [
    "yset_onehot=to_categorical(yset,num_classes=CLASS_NUM)\n",
    "yset_onehot.shape"
   ]
  },
  {
   "cell_type": "code",
   "execution_count": 13,
   "metadata": {},
   "outputs": [],
   "source": [
    "train_x, test_x, train_y, test_y = train_test_split(xset, yset_onehot, test_size=0.1, random_state=42)"
   ]
  },
  {
   "cell_type": "code",
   "execution_count": 14,
   "metadata": {},
   "outputs": [
    {
     "data": {
      "text/plain": [
       "0.04476092408328631"
      ]
     },
     "execution_count": 14,
     "metadata": {},
     "output_type": "execute_result"
    }
   ],
   "source": [
    "train_x.min()"
   ]
  },
  {
   "cell_type": "code",
   "execution_count": 15,
   "metadata": {},
   "outputs": [
    {
     "data": {
      "text/plain": [
       "3.804678547079336"
      ]
     },
     "execution_count": 15,
     "metadata": {},
     "output_type": "execute_result"
    }
   ],
   "source": [
    "train_x.max()"
   ]
  },
  {
   "cell_type": "code",
   "execution_count": null,
   "metadata": {},
   "outputs": [],
   "source": []
  },
  {
   "cell_type": "code",
   "execution_count": 16,
   "metadata": {},
   "outputs": [
    {
     "name": "stdout",
     "output_type": "stream",
     "text": [
      "train_x (35288, 35, 35, 1)\n",
      "train_y (35288, 43)\n",
      "test_x (3921, 35, 35, 1)\n",
      "test_y (3921, 43)\n"
     ]
    }
   ],
   "source": [
    "print(\"train_x\", train_x.shape)\n",
    "print(\"train_y\", train_y.shape)\n",
    "print(\"test_x\", test_x.shape)\n",
    "print(\"test_y\", test_y.shape)"
   ]
  },
  {
   "cell_type": "code",
   "execution_count": 17,
   "metadata": {},
   "outputs": [
    {
     "name": "stdout",
     "output_type": "stream",
     "text": [
      "Train on 35288 samples, validate on 3921 samples\n",
      "Epoch 1/20\n",
      "35288/35288 [==============================] - 13s 372us/step - loss: 1.8967 - acc: 0.5190 - val_loss: 1.4121 - val_acc: 0.6496\n",
      "Epoch 2/20\n",
      "35288/35288 [==============================] - 13s 356us/step - loss: 0.3556 - acc: 0.9109 - val_loss: 0.8456 - val_acc: 0.8131\n",
      "Epoch 3/20\n",
      "35288/35288 [==============================] - 13s 356us/step - loss: 0.1641 - acc: 0.9569 - val_loss: 15.2345 - val_acc: 0.0546\n",
      "Epoch 4/20\n",
      "35288/35288 [==============================] - 12s 337us/step - loss: 1.9819 - acc: 0.8364 - val_loss: 0.1368 - val_acc: 0.9663\n",
      "Epoch 5/20\n",
      "35288/35288 [==============================] - 12s 351us/step - loss: 0.0876 - acc: 0.9785 - val_loss: 0.1127 - val_acc: 0.9712\n",
      "Epoch 6/20\n",
      "35288/35288 [==============================] - 12s 347us/step - loss: 0.0563 - acc: 0.9850 - val_loss: 0.1085 - val_acc: 0.9730\n",
      "Epoch 7/20\n",
      "35288/35288 [==============================] - 12s 343us/step - loss: 0.0636 - acc: 0.9851 - val_loss: 0.1001 - val_acc: 0.9758\n",
      "Epoch 8/20\n",
      "35288/35288 [==============================] - 12s 340us/step - loss: 0.0470 - acc: 0.9903 - val_loss: 0.1109 - val_acc: 0.9737\n",
      "Epoch 9/20\n",
      "35288/35288 [==============================] - 12s 345us/step - loss: 0.0294 - acc: 0.9926 - val_loss: 0.0861 - val_acc: 0.9814\n",
      "Epoch 10/20\n",
      "35288/35288 [==============================] - 12s 344us/step - loss: 0.0206 - acc: 0.9947 - val_loss: 0.1295 - val_acc: 0.9735\n",
      "Epoch 11/20\n",
      "35288/35288 [==============================] - 13s 370us/step - loss: 0.0153 - acc: 0.9964 - val_loss: 0.0750 - val_acc: 0.9850\n",
      "Epoch 12/20\n",
      "35288/35288 [==============================] - 12s 338us/step - loss: 0.0112 - acc: 0.9976 - val_loss: 0.0696 - val_acc: 0.9862\n",
      "Epoch 13/20\n",
      "35288/35288 [==============================] - 12s 339us/step - loss: 0.0189 - acc: 0.9958 - val_loss: 0.1212 - val_acc: 0.9763\n",
      "Epoch 14/20\n",
      "35288/35288 [==============================] - 12s 346us/step - loss: 0.0862 - acc: 0.9862 - val_loss: 0.1696 - val_acc: 0.9589\n",
      "Epoch 15/20\n",
      "35288/35288 [==============================] - 12s 346us/step - loss: 0.0444 - acc: 0.9900 - val_loss: 0.0809 - val_acc: 0.9824\n",
      "Epoch 16/20\n",
      "35288/35288 [==============================] - 12s 345us/step - loss: 0.0092 - acc: 0.9982 - val_loss: 0.0852 - val_acc: 0.9832\n",
      "Epoch 17/20\n",
      "35288/35288 [==============================] - 12s 342us/step - loss: 0.0119 - acc: 0.9974 - val_loss: 0.0722 - val_acc: 0.9867\n",
      "Epoch 18/20\n",
      "35288/35288 [==============================] - 12s 339us/step - loss: 0.0047 - acc: 0.9993 - val_loss: 0.0669 - val_acc: 0.9872\n",
      "Epoch 19/20\n",
      "35288/35288 [==============================] - 12s 333us/step - loss: 0.0043 - acc: 0.9996 - val_loss: 0.0699 - val_acc: 0.9880\n",
      "Epoch 20/20\n",
      "35288/35288 [==============================] - 12s 338us/step - loss: 0.0027 - acc: 0.9998 - val_loss: 0.0665 - val_acc: 0.9883\n",
      "3921/3921 [==============================] - 1s 242us/step\n",
      "Total loss on Testing Set: 0.0664656173310396\n",
      "Accuracy of Testing Set: 0.988268298903341\n"
     ]
    }
   ],
   "source": [
    "# create model\n",
    "model=Sequential()\n",
    "model.add(Conv2D(filters=6, kernel_size=(5,5), padding='valid', input_shape=DST_SIZE, activation=\"relu\"))\n",
    "\n",
    "model.add(MaxPool2D(pool_size=(2,2)))\n",
    "\n",
    "model.add(Conv2D(filters=16, kernel_size=(5,5), padding='valid', activation=\"relu\"))\n",
    "\n",
    "model.add(MaxPool2D(pool_size=(2,2)))\n",
    "\n",
    "#池化后变成16个4x4的矩阵，然后把矩阵压平变成一维的，一共256个单元。\n",
    "model.add(Flatten())\n",
    "\n",
    "#下面就是全连接层了\n",
    "model.add(Dense(120, activation=\"relu\"))\n",
    "\n",
    "model.add(Dense(84, activation=\"relu\"))\n",
    "\n",
    "model.add(Dense(CLASS_NUM, activation='softmax'))\n",
    "#compile model\n",
    "\n",
    "#事实证明，对于分类问题，使用交叉熵(cross entropy)作为损失函数更好些\n",
    "model.compile(\n",
    "    loss='categorical_crossentropy',\n",
    "    optimizer=SGD(lr=0.1),\n",
    "    metrics=['accuracy']\n",
    ")\n",
    "\n",
    "#train model\n",
    "model.fit(train_x, train_y,\n",
    "          batch_size=120,\n",
    "          epochs=20, \n",
    "          verbose = 1,\n",
    "          validation_data = (test_x, test_y))\n",
    "\n",
    "#evaluate model\n",
    "\n",
    "score = model.evaluate(test_x,test_y)\n",
    "print(\"Total loss on Testing Set:\", score[0])\n",
    "print(\"Accuracy of Testing Set:\", score[1])"
   ]
  },
  {
   "cell_type": "code",
   "execution_count": 19,
   "metadata": {},
   "outputs": [],
   "source": [
    "model.save('relu_GTSRB_model.h5')"
   ]
  }
 ],
 "metadata": {
  "kernelspec": {
   "display_name": "Python 3",
   "language": "python",
   "name": "python3"
  },
  "language_info": {
   "codemirror_mode": {
    "name": "ipython",
    "version": 3
   },
   "file_extension": ".py",
   "mimetype": "text/x-python",
   "name": "python",
   "nbconvert_exporter": "python",
   "pygments_lexer": "ipython3",
   "version": "3.6.4"
  }
 },
 "nbformat": 4,
 "nbformat_minor": 2
}
