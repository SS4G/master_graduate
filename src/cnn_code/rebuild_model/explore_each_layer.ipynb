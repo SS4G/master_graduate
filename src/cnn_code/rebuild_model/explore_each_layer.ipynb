{
 "cells": [
  {
   "cell_type": "code",
   "execution_count": 3,
   "metadata": {
    "collapsed": false
   },
   "outputs": [],
   "source": [
    "model = load_model('data/lenet5_relu_model.h5')\n",
    "conv2d_1_layer = model.get_layer(\"conv2d_1\")\n",
    "max_pooling2d_1_layer = model.get_layer(\"max_pooling2d_1\")\n",
    "conv2d_2_layer = model.get_layer(\"conv2d_2\")\n",
    "max_pooling2d_2_layer = model.get_layer(\"max_pooling2d_2\")\n",
    "dense_1_layer = model.get_layer(\"dense_1\")\n",
    "dense_2_layer = model.get_layer(\"dense_2\")\n",
    "dense_3_layer = model.get_layer(\"dense_3\")\n",
    "layers = {}\n",
    "layers[\"conv2d_1\"] = conv2d_1_layer\n",
    "layers[\"max_pooling2d_1\"] = max_pooling2d_1_layer\n",
    "layers[\"conv2d_2\"] = conv2d_2_layer\n",
    "layers[\"max_pooling2d_2\"] = max_pooling2d_2_layer\n",
    "layers[\"dense_1_layer\"] = dense_1_layer\n",
    "layers[\"dense_2_layer\"] = dense_2_layer\n",
    "layers[\"dense_3_layer\"] = dense_3_layer"
   ]
  },
  {
   "cell_type": "code",
   "execution_count": null,
   "metadata": {
    "collapsed": true
   },
   "outputs": [],
   "source": []
  },
  {
   "cell_type": "code",
   "execution_count": 6,
   "metadata": {
    "collapsed": false
   },
   "outputs": [
    {
     "data": {
      "text/plain": [
       "array([[[[ 0.06141106,  0.        , 10.797474  ,  0.        ,\n",
       "           0.        , 13.840789  ],\n",
       "         [ 0.        ,  0.        , 11.04663   ,  0.        ,\n",
       "           0.        , 14.70165   ],\n",
       "         [ 0.        ,  0.        , 11.295787  ,  0.        ,\n",
       "           0.        , 15.5625105 ],\n",
       "         ...,\n",
       "         [ 0.        , 11.394578  , 17.77384   ,  0.        ,\n",
       "           0.        , 37.94491   ],\n",
       "         [ 0.        , 12.193295  , 18.023     ,  0.        ,\n",
       "           0.        , 38.805763  ],\n",
       "         [ 0.        , 12.992002  , 18.272158  ,  0.        ,\n",
       "           0.        , 39.666626  ]],\n",
       "\n",
       "        [[ 0.06141106,  0.        , 10.797474  ,  0.        ,\n",
       "           0.        , 13.840789  ],\n",
       "         [ 0.        ,  0.        , 11.04663   ,  0.        ,\n",
       "           0.        , 14.70165   ],\n",
       "         [ 0.        ,  0.        , 11.295787  ,  0.        ,\n",
       "           0.        , 15.5625105 ],\n",
       "         ...,\n",
       "         [ 0.        , 11.394578  , 17.77384   ,  0.        ,\n",
       "           0.        , 37.94491   ],\n",
       "         [ 0.        , 12.193295  , 18.023     ,  0.        ,\n",
       "           0.        , 38.805763  ],\n",
       "         [ 0.        , 12.992002  , 18.272158  ,  0.        ,\n",
       "           0.        , 39.666626  ]],\n",
       "\n",
       "        [[ 0.06141106,  0.        , 10.797474  ,  0.        ,\n",
       "           0.        , 13.840789  ],\n",
       "         [ 0.        ,  0.        , 11.04663   ,  0.        ,\n",
       "           0.        , 14.70165   ],\n",
       "         [ 0.        ,  0.        , 11.295787  ,  0.        ,\n",
       "           0.        , 15.5625105 ],\n",
       "         ...,\n",
       "         [ 0.        , 11.394578  , 17.77384   ,  0.        ,\n",
       "           0.        , 37.94491   ],\n",
       "         [ 0.        , 12.193295  , 18.023     ,  0.        ,\n",
       "           0.        , 38.805763  ],\n",
       "         [ 0.        , 12.992002  , 18.272158  ,  0.        ,\n",
       "           0.        , 39.666626  ]],\n",
       "\n",
       "        ...,\n",
       "\n",
       "        [[ 0.06141106,  0.        , 10.797474  ,  0.        ,\n",
       "           0.        , 13.840789  ],\n",
       "         [ 0.        ,  0.        , 11.04663   ,  0.        ,\n",
       "           0.        , 14.70165   ],\n",
       "         [ 0.        ,  0.        , 11.295787  ,  0.        ,\n",
       "           0.        , 15.5625105 ],\n",
       "         ...,\n",
       "         [ 0.        , 11.394578  , 17.77384   ,  0.        ,\n",
       "           0.        , 37.94491   ],\n",
       "         [ 0.        , 12.193295  , 18.023     ,  0.        ,\n",
       "           0.        , 38.805763  ],\n",
       "         [ 0.        , 12.992002  , 18.272158  ,  0.        ,\n",
       "           0.        , 39.666626  ]],\n",
       "\n",
       "        [[ 0.06141106,  0.        , 10.797474  ,  0.        ,\n",
       "           0.        , 13.840789  ],\n",
       "         [ 0.        ,  0.        , 11.04663   ,  0.        ,\n",
       "           0.        , 14.70165   ],\n",
       "         [ 0.        ,  0.        , 11.295787  ,  0.        ,\n",
       "           0.        , 15.5625105 ],\n",
       "         ...,\n",
       "         [ 0.        , 11.394578  , 17.77384   ,  0.        ,\n",
       "           0.        , 37.94491   ],\n",
       "         [ 0.        , 12.193295  , 18.023     ,  0.        ,\n",
       "           0.        , 38.805763  ],\n",
       "         [ 0.        , 12.992002  , 18.272158  ,  0.        ,\n",
       "           0.        , 39.666626  ]],\n",
       "\n",
       "        [[ 0.06141106,  0.        , 10.797474  ,  0.        ,\n",
       "           0.        , 13.840789  ],\n",
       "         [ 0.        ,  0.        , 11.04663   ,  0.        ,\n",
       "           0.        , 14.70165   ],\n",
       "         [ 0.        ,  0.        , 11.295787  ,  0.        ,\n",
       "           0.        , 15.5625105 ],\n",
       "         ...,\n",
       "         [ 0.        , 11.394578  , 17.77384   ,  0.        ,\n",
       "           0.        , 37.94491   ],\n",
       "         [ 0.        , 12.193295  , 18.023     ,  0.        ,\n",
       "           0.        , 38.805763  ],\n",
       "         [ 0.        , 12.991981  , 18.272158  ,  0.        ,\n",
       "           0.        , 39.666626  ]]]], dtype=float32)"
      ]
     },
     "execution_count": 6,
     "metadata": {},
     "output_type": "execute_result"
    }
   ],
   "source": [
    "mats['conv2d_1']"
   ]
  },
  {
   "cell_type": "code",
   "execution_count": 12,
   "metadata": {
    "collapsed": false
   },
   "outputs": [
    {
     "name": "stdout",
     "output_type": "stream",
     "text": [
      "<class 'numpy.ndarray'>\n",
      "<class 'numpy.ndarray'>\n",
      "<class 'numpy.ndarray'>\n"
     ]
    }
   ],
   "source": [
    "arr = np.arange(15).reshape((3, 5))\n",
    "for i in arr:\n",
    "    print(type(i))"
   ]
  },
  {
   "cell_type": "code",
   "execution_count": 17,
   "metadata": {
    "collapsed": false
   },
   "outputs": [
    {
     "name": "stdout",
     "output_type": "stream",
     "text": [
      "[[ 1  2  3  4  5]\n",
      " [ 6  7  8  9 10]\n",
      " [11 12 13 14 15]]\n",
      "[[ 0  1  2  3  4]\n",
      " [ 5  6  7  8  9]\n",
      " [10 11 12 13 14]]\n"
     ]
    }
   ],
   "source": [
    "arr = np.arange(15).reshape((3, 5))\n",
    "arr2 = arr + 1\n",
    "print(arr2)\n",
    "print(arr)"
   ]
  },
  {
   "cell_type": "code",
   "execution_count": 19,
   "metadata": {
    "collapsed": false
   },
   "outputs": [
    {
     "data": {
      "text/plain": [
       "1120"
      ]
     },
     "execution_count": 19,
     "metadata": {},
     "output_type": "execute_result"
    }
   ],
   "source": [
    "(arr2 * arr).sum()"
   ]
  },
  {
   "cell_type": "code",
   "execution_count": 20,
   "metadata": {
    "collapsed": false
   },
   "outputs": [
    {
     "data": {
      "text/plain": [
       "array([[ 0,  1,  2,  3,  4],\n",
       "       [ 5,  6,  7,  8,  9],\n",
       "       [10, 11, 12, 13, 14]])"
      ]
     },
     "execution_count": 20,
     "metadata": {},
     "output_type": "execute_result"
    }
   ],
   "source": [
    "arr"
   ]
  },
  {
   "cell_type": "code",
   "execution_count": 25,
   "metadata": {
    "collapsed": false
   },
   "outputs": [
    {
     "data": {
      "text/plain": [
       "array([[ 6,  7],\n",
       "       [11, 12]])"
      ]
     },
     "execution_count": 25,
     "metadata": {},
     "output_type": "execute_result"
    }
   ],
   "source": [
    "arr[1:3, 1:3]"
   ]
  },
  {
   "cell_type": "code",
   "execution_count": null,
   "metadata": {
    "collapsed": true
   },
   "outputs": [],
   "source": []
  }
 ],
 "metadata": {
  "kernelspec": {
   "display_name": "Python 3",
   "language": "python",
   "name": "python3"
  },
  "language_info": {
   "codemirror_mode": {
    "name": "ipython",
    "version": 3
   },
   "file_extension": ".py",
   "mimetype": "text/x-python",
   "name": "python",
   "nbconvert_exporter": "python",
   "pygments_lexer": "ipython3",
   "version": "3.6.0"
  }
 },
 "nbformat": 4,
 "nbformat_minor": 2
}
