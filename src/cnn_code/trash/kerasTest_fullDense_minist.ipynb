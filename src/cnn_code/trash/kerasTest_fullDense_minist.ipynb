{
 "cells": [
  {
   "cell_type": "code",
   "execution_count": 1,
   "metadata": {},
   "outputs": [
    {
     "name": "stderr",
     "output_type": "stream",
     "text": [
      "Using TensorFlow backend.\n"
     ]
    },
    {
     "name": "stdout",
     "output_type": "stream",
     "text": [
      "WARNING:tensorflow:From /data00/home/songziheng/.local/lib/python3.6/site-packages/tensorflow/contrib/learn/python/learn/datasets/base.py:198: retry (from tensorflow.contrib.learn.python.learn.datasets.base) is deprecated and will be removed in a future version.\n",
      "Instructions for updating:\n",
      "Use the retry module or similar alternatives.\n"
     ]
    }
   ],
   "source": [
    "# -*- coding: utf-8 -*-\n",
    "from __future__ import print_function\n",
    "import numpy as np\n",
    "np.random.seed(1337)\n",
    "from keras.models import Sequential\n",
    "from keras.layers.core import Dense, Dropout, Activation\n",
    "from tensorflow.examples.tutorials.mnist import input_data"
   ]
  },
  {
   "cell_type": "code",
   "execution_count": 2,
   "metadata": {},
   "outputs": [],
   "source": [
    "# 设置batch的大小\n",
    "batch_size = 100\n",
    "# 设置类别的个数\n",
    "nb_classes = 10\n",
    "# 设置迭代的次数\n",
    "nb_epoch = 20"
   ]
  },
  {
   "cell_type": "code",
   "execution_count": 3,
   "metadata": {},
   "outputs": [
    {
     "name": "stdout",
     "output_type": "stream",
     "text": [
      "WARNING:tensorflow:From <ipython-input-3-a839aeb82f4b>:1: read_data_sets (from tensorflow.contrib.learn.python.learn.datasets.mnist) is deprecated and will be removed in a future version.\n",
      "Instructions for updating:\n",
      "Please use alternatives such as official/mnist/dataset.py from tensorflow/models.\n",
      "WARNING:tensorflow:From /data00/home/songziheng/.local/lib/python3.6/site-packages/tensorflow/contrib/learn/python/learn/datasets/mnist.py:260: maybe_download (from tensorflow.contrib.learn.python.learn.datasets.base) is deprecated and will be removed in a future version.\n",
      "Instructions for updating:\n",
      "Please write your own downloading logic.\n",
      "WARNING:tensorflow:From /data00/home/songziheng/.local/lib/python3.6/site-packages/tensorflow/contrib/learn/python/learn/datasets/mnist.py:262: extract_images (from tensorflow.contrib.learn.python.learn.datasets.mnist) is deprecated and will be removed in a future version.\n",
      "Instructions for updating:\n",
      "Please use tf.data to implement this functionality.\n",
      "Extracting MNIST_data/train-images-idx3-ubyte.gz\n",
      "WARNING:tensorflow:From /data00/home/songziheng/.local/lib/python3.6/site-packages/tensorflow/contrib/learn/python/learn/datasets/mnist.py:267: extract_labels (from tensorflow.contrib.learn.python.learn.datasets.mnist) is deprecated and will be removed in a future version.\n",
      "Instructions for updating:\n",
      "Please use tf.data to implement this functionality.\n",
      "Extracting MNIST_data/train-labels-idx1-ubyte.gz\n",
      "WARNING:tensorflow:From /data00/home/songziheng/.local/lib/python3.6/site-packages/tensorflow/contrib/learn/python/learn/datasets/mnist.py:110: dense_to_one_hot (from tensorflow.contrib.learn.python.learn.datasets.mnist) is deprecated and will be removed in a future version.\n",
      "Instructions for updating:\n",
      "Please use tf.one_hot on tensors.\n",
      "Extracting MNIST_data/t10k-images-idx3-ubyte.gz\n",
      "Extracting MNIST_data/t10k-labels-idx1-ubyte.gz\n",
      "WARNING:tensorflow:From /data00/home/songziheng/.local/lib/python3.6/site-packages/tensorflow/contrib/learn/python/learn/datasets/mnist.py:290: DataSet.__init__ (from tensorflow.contrib.learn.python.learn.datasets.mnist) is deprecated and will be removed in a future version.\n",
      "Instructions for updating:\n",
      "Please use alternatives such as official/mnist/dataset.py from tensorflow/models.\n"
     ]
    }
   ],
   "source": [
    "mnist = input_data.read_data_sets(\"MNIST_data/\", one_hot=True)"
   ]
  },
  {
   "cell_type": "code",
   "execution_count": 4,
   "metadata": {},
   "outputs": [],
   "source": [
    "X_train, Y_train = mnist.train.images,mnist.train.labels\n",
    "X_test, Y_test = mnist.test.images, mnist.test.labels"
   ]
  },
  {
   "cell_type": "markdown",
   "metadata": {},
   "source": [
    "此时的minist数据是一行的\n",
    "28*28 像素"
   ]
  },
  {
   "cell_type": "code",
   "execution_count": 5,
   "metadata": {},
   "outputs": [
    {
     "data": {
      "text/plain": [
       "(55000, 784)"
      ]
     },
     "execution_count": 5,
     "metadata": {},
     "output_type": "execute_result"
    }
   ],
   "source": [
    "X_train.shape"
   ]
  },
  {
   "cell_type": "code",
   "execution_count": 6,
   "metadata": {},
   "outputs": [
    {
     "data": {
      "text/plain": [
       "(10000, 784)"
      ]
     },
     "execution_count": 6,
     "metadata": {},
     "output_type": "execute_result"
    }
   ],
   "source": [
    "X_test.shape"
   ]
  },
  {
   "cell_type": "code",
   "execution_count": 9,
   "metadata": {},
   "outputs": [],
   "source": [
    "X_train = X_train.reshape(-1, 28, 28,1).astype('float32')\n",
    "X_test = X_test.reshape(-1,28, 28,1).astype('float32')"
   ]
  },
  {
   "cell_type": "code",
   "execution_count": 10,
   "metadata": {},
   "outputs": [
    {
     "name": "stdout",
     "output_type": "stream",
     "text": [
      "(55000, 28, 28, 1) (10000, 28, 28, 1) (55000, 10) (10000, 10)\n"
     ]
    }
   ],
   "source": [
    "#打印训练数据和测试数据的维度\n",
    "# 28 * 28 像素 单通道\n",
    "print(X_train.shape,X_test.shape,Y_train.shape,Y_test.shape)"
   ]
  },
  {
   "cell_type": "code",
   "execution_count": 11,
   "metadata": {},
   "outputs": [
    {
     "name": "stdout",
     "output_type": "stream",
     "text": [
      "(55000, 784) (10000, 784) (55000, 10) (10000, 10)\n",
      "55000 train samples\n",
      "10000 test samples\n"
     ]
    }
   ],
   "source": [
    "#修改维度\n",
    "X_train = X_train.reshape(55000,784)\n",
    "X_test = X_test.reshape(10000,784)\n",
    "print(X_train.shape,X_test.shape,Y_train.shape,Y_test.shape)\n",
    "\n",
    "# keras中的mnist数据集已经被划分成了55,000个训练集，10,000个测试集的形式，按以下格式调用即可\n",
    "\n",
    "# X_train原本是一个60000*28*28的三维向量，将其转换为60000*784的二维向量\n",
    "\n",
    "# X_test原本是一个10000*28*28的三维向量，将其转换为10000*784的二维向量\n",
    "\n",
    "# 将X_train, X_test的数据格式转为float32存储\n",
    "X_train = X_train.astype('float32')\n",
    "X_test = X_test.astype('float32')\n",
    "# 归一化 将图像颜色统一归一在0~255\n",
    "X_train /= 255\n",
    "X_test /= 255\n",
    "# 打印出训练集和测试集的信息\n",
    "print(X_train.shape[0], 'train samples')\n",
    "print(X_test.shape[0], 'test samples')"
   ]
  },
  {
   "cell_type": "code",
   "execution_count": 12,
   "metadata": {},
   "outputs": [
    {
     "name": "stdout",
     "output_type": "stream",
     "text": [
      "_________________________________________________________________\n",
      "Layer (type)                 Output Shape              Param #   \n",
      "=================================================================\n",
      "dense_1 (Dense)              (None, 500)               392500    \n",
      "_________________________________________________________________\n",
      "activation_1 (Activation)    (None, 500)               0         \n",
      "_________________________________________________________________\n",
      "dense_2 (Dense)              (None, 500)               250500    \n",
      "_________________________________________________________________\n",
      "activation_2 (Activation)    (None, 500)               0         \n",
      "_________________________________________________________________\n",
      "dense_3 (Dense)              (None, 10)                5010      \n",
      "_________________________________________________________________\n",
      "activation_3 (Activation)    (None, 10)                0         \n",
      "=================================================================\n",
      "Total params: 648,010\n",
      "Trainable params: 648,010\n",
      "Non-trainable params: 0\n",
      "_________________________________________________________________\n"
     ]
    }
   ],
   "source": [
    "#Y_train = np_utils.to_categorical(Y_train, nb_classes)\n",
    "#Y_test = np_utils.to_categorical(Y_test, nb_classes)\n",
    "\n",
    "# 建立顺序型模型\n",
    "model = Sequential()\n",
    "'''\n",
    "模型需要知道输入数据的shape，\n",
    "因此，Sequential的第一层需要接受一个关于输入数据shape的参数，\n",
    "后面的各个层则可以自动推导出中间数据的shape，\n",
    "因此不需要为每个层都指定这个参数\n",
    "'''\n",
    "\n",
    "# 输入层有784个神经元\n",
    "# 第一个隐层有512个神经元，激活函数为ReLu，Dropout比例为0.2\n",
    "model.add(Dense(512, input_shape=(784,)))\n",
    "model.add(Activation('relu'))\n",
    "#model.add(Dropout(0.2))\n",
    "\n",
    "# 第二个隐层有512个神经元，激活函数为ReLu，Dropout比例为0.2\n",
    "model.add(Dense(512))\n",
    "model.add(Activation('relu'))\n",
    "#model.add(Dropout(0.2))\n",
    "\n",
    "# 输出层有10个神经元，激活函数为SoftMax，得到分类结果\n",
    "model.add(Dense(10))\n",
    "model.add(Activation('softmax'))\n",
    "\n",
    "# 输出模型的整体信息\n",
    "# 总共参数数量为784*512+512 + 512*512+512 + 512*10+10 = 669706\n",
    "model.summary()\n",
    "输出出的"
   ]
  },
  {
   "cell_type": "code",
   "execution_count": 13,
   "metadata": {},
   "outputs": [
    {
     "name": "stdout",
     "output_type": "stream",
     "text": [
      "Train on 55000 samples, validate on 10000 samples\n",
      "Epoch 1/20\n",
      "55000/55000 [==============================] - 3s 62us/step - loss: 1.0025 - acc: 0.7068 - val_loss: 0.4520 - val_acc: 0.8647\n",
      "Epoch 2/20\n",
      "55000/55000 [==============================] - 3s 46us/step - loss: 0.3921 - acc: 0.8855 - val_loss: 0.3357 - val_acc: 0.9009\n",
      "Epoch 3/20\n",
      "55000/55000 [==============================] - 3s 46us/step - loss: 0.3246 - acc: 0.9062 - val_loss: 0.2995 - val_acc: 0.9132\n",
      "Epoch 4/20\n",
      "55000/55000 [==============================] - 3s 49us/step - loss: 0.2881 - acc: 0.9164 - val_loss: 0.2620 - val_acc: 0.9231\n",
      "Epoch 5/20\n",
      "55000/55000 [==============================] - 3s 50us/step - loss: 0.2546 - acc: 0.9259 - val_loss: 0.2406 - val_acc: 0.9292\n",
      "Epoch 6/20\n",
      "55000/55000 [==============================] - 3s 49us/step - loss: 0.2273 - acc: 0.9338 - val_loss: 0.2107 - val_acc: 0.9386\n",
      "Epoch 7/20\n",
      "55000/55000 [==============================] - 3s 55us/step - loss: 0.2040 - acc: 0.9417 - val_loss: 0.1916 - val_acc: 0.9437\n",
      "Epoch 8/20\n",
      "55000/55000 [==============================] - 3s 63us/step - loss: 0.1823 - acc: 0.9463 - val_loss: 0.1753 - val_acc: 0.9471\n",
      "Epoch 9/20\n",
      "55000/55000 [==============================] - 3s 47us/step - loss: 0.1638 - acc: 0.9517 - val_loss: 0.1596 - val_acc: 0.9520\n",
      "Epoch 10/20\n",
      "55000/55000 [==============================] - 3s 46us/step - loss: 0.1481 - acc: 0.9565 - val_loss: 0.1581 - val_acc: 0.9523\n",
      "Epoch 11/20\n",
      "55000/55000 [==============================] - 3s 47us/step - loss: 0.1356 - acc: 0.9604 - val_loss: 0.1440 - val_acc: 0.9562\n",
      "Epoch 12/20\n",
      "55000/55000 [==============================] - 3s 46us/step - loss: 0.1243 - acc: 0.9634 - val_loss: 0.1353 - val_acc: 0.9593\n",
      "Epoch 13/20\n",
      "55000/55000 [==============================] - 3s 46us/step - loss: 0.1130 - acc: 0.9665 - val_loss: 0.1179 - val_acc: 0.9633\n",
      "Epoch 14/20\n",
      "55000/55000 [==============================] - 3s 46us/step - loss: 0.1047 - acc: 0.9685 - val_loss: 0.1248 - val_acc: 0.9628\n",
      "Epoch 15/20\n",
      "55000/55000 [==============================] - 3s 46us/step - loss: 0.0952 - acc: 0.9717 - val_loss: 0.1045 - val_acc: 0.9672\n",
      "Epoch 16/20\n",
      "55000/55000 [==============================] - 3s 47us/step - loss: 0.0875 - acc: 0.9741 - val_loss: 0.1032 - val_acc: 0.9690\n",
      "Epoch 17/20\n",
      "55000/55000 [==============================] - 2s 45us/step - loss: 0.0805 - acc: 0.9753 - val_loss: 0.0959 - val_acc: 0.9710\n",
      "Epoch 18/20\n",
      "55000/55000 [==============================] - 2s 45us/step - loss: 0.0733 - acc: 0.9779 - val_loss: 0.0935 - val_acc: 0.9717\n",
      "Epoch 19/20\n",
      "55000/55000 [==============================] - 2s 45us/step - loss: 0.0686 - acc: 0.9793 - val_loss: 0.0894 - val_acc: 0.9726\n",
      "Epoch 20/20\n",
      "55000/55000 [==============================] - 3s 46us/step - loss: 0.0624 - acc: 0.9808 - val_loss: 0.0902 - val_acc: 0.9732\n"
     ]
    }
   ],
   "source": [
    "\n",
    "model.compile(loss='categorical_crossentropy',\n",
    "              optimizer='adam',\n",
    "              metrics=['accuracy'])\n",
    "\n",
    "history = model.fit(X_train, Y_train,\n",
    "                    batch_size = 200,\n",
    "                    epochs = 20,\n",
    "                    verbose = 1,\n",
    "                    validation_data = (X_test, Y_test))\n",
    "\n"
   ]
  },
  {
   "cell_type": "code",
   "execution_count": 14,
   "metadata": {},
   "outputs": [
    {
     "name": "stdout",
     "output_type": "stream",
     "text": [
      "Test score: 0.09020705241616815\n",
      "Test accuracy: 0.9732\n"
     ]
    }
   ],
   "source": [
    "score = model.evaluate(X_test, Y_test, verbose=0)\n",
    "# 输出训练好的模型在测试集上的表现\n",
    "print('Test score:', score[0])\n",
    "print('Test accuracy:', score[1])"
   ]
  },
  {
   "cell_type": "code",
   "execution_count": null,
   "metadata": {},
   "outputs": [],
   "source": []
  },
  {
   "cell_type": "code",
   "execution_count": null,
   "metadata": {},
   "outputs": [],
   "source": []
  },
  {
   "cell_type": "code",
   "execution_count": null,
   "metadata": {},
   "outputs": [],
   "source": []
  }
 ],
 "metadata": {
  "kernelspec": {
   "display_name": "Python 3",
   "language": "python",
   "name": "python3"
  },
  "language_info": {
   "codemirror_mode": {
    "name": "ipython",
    "version": 3
   },
   "file_extension": ".py",
   "mimetype": "text/x-python",
   "name": "python",
   "nbconvert_exporter": "python",
   "pygments_lexer": "ipython3",
   "version": "3.6.4"
  }
 },
 "nbformat": 4,
 "nbformat_minor": 2
}
