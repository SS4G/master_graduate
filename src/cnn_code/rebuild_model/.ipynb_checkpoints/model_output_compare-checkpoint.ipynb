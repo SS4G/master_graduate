{
 "cells": [
  {
   "cell_type": "code",
   "execution_count": 1,
   "metadata": {
    "collapsed": false
   },
   "outputs": [
    {
     "name": "stderr",
     "output_type": "stream",
     "text": [
      "Using TensorFlow backend.\n"
     ]
    }
   ],
   "source": [
    "import h5py\n",
    "import numpy as np\n",
    "from keras.models import Sequential, load_model, Model\n",
    "import pickle\n",
    "from keras.layers import Dense,Flatten,Conv2D,MaxPool2D\n",
    "from keras.optimizers import SGD\n",
    "from keras.utils import to_categorical\n",
    "import cv2\n",
    "import os\n",
    "import json\n",
    "import sys\n",
    "from functools import reduce"
   ]
  },
  {
   "cell_type": "code",
   "execution_count": 2,
   "metadata": {
    "collapsed": false
   },
   "outputs": [],
   "source": [
    "dataPath = \"/home/szh-920/workspace/master_graduate/data\"\n",
    "f_k = h5py.File('{0}/model_output/keras_model_output.hdf5'.format(dataPath), \"r\")\n",
    "f_m = h5py.File('{0}/model_output/rebuild_model_output.hdf5'.format(dataPath), \"r\")"
   ]
  },
  {
   "cell_type": "code",
   "execution_count": 3,
   "metadata": {
    "collapsed": false
   },
   "outputs": [
    {
     "name": "stdout",
     "output_type": "stream",
     "text": [
      "conv_2d_1_output\n",
      "conv_2d_2_output\n",
      "dense___1_output\n",
      "dense___2_output\n",
      "dense___3_output\n",
      "flatten_1_output\n",
      "pool_2d_1_output\n",
      "pool_2d_2_output\n"
     ]
    }
   ],
   "source": [
    "f_k.visit(print)"
   ]
  },
  {
   "cell_type": "code",
   "execution_count": 4,
   "metadata": {
    "collapsed": false
   },
   "outputs": [
    {
     "name": "stdout",
     "output_type": "stream",
     "text": [
      "conv_2d_1_output\n",
      "conv_2d_2_output\n",
      "dense___1_output\n",
      "dense___2_output\n",
      "dense___3_output\n",
      "flatten_1_output\n",
      "pool_2d_1_output\n",
      "pool_2d_2_output\n"
     ]
    }
   ],
   "source": [
    "f_m.visit(print)"
   ]
  },
  {
   "cell_type": "code",
   "execution_count": 5,
   "metadata": {
    "collapsed": true
   },
   "outputs": [],
   "source": [
    "def getDiff(mat1, mat2):\n",
    "    assert mat1.shape == mat2.shape, \"two array shape should be same\"\n",
    "    elementAmount = reduce(lambda x, y: x * y, mat1.shape)\n",
    "    errAtEachElement = abs(mat1 - mat2).sum() / elementAmount# 平均每个元素上的误差\n",
    "    print(\"err at each point {0}\".format(errAtEachElement))\n",
    "    return errAtEachElement"
   ]
  },
  {
   "cell_type": "code",
   "execution_count": 6,
   "metadata": {
    "collapsed": false
   },
   "outputs": [
    {
     "name": "stdout",
     "output_type": "stream",
     "text": [
      "err at each point 6.773382698505368e-08\n"
     ]
    },
    {
     "data": {
      "text/plain": [
       "6.773382698505368e-08"
      ]
     },
     "execution_count": 6,
     "metadata": {},
     "output_type": "execute_result"
    }
   ],
   "source": [
    "getDiff(np.array(f_k[\"conv_2d_1_output\"]), np.array(f_m[\"conv_2d_1_output\"]))"
   ]
  },
  {
   "cell_type": "code",
   "execution_count": 7,
   "metadata": {
    "collapsed": false
   },
   "outputs": [
    {
     "name": "stdout",
     "output_type": "stream",
     "text": [
      "err at each point 8.630687951258186e-08\n"
     ]
    },
    {
     "data": {
      "text/plain": [
       "8.630687951258186e-08"
      ]
     },
     "execution_count": 7,
     "metadata": {},
     "output_type": "execute_result"
    }
   ],
   "source": [
    "getDiff(np.array(f_k[\"pool_2d_1_output\"]), np.array(f_m[\"pool_2d_1_output\"]))"
   ]
  },
  {
   "cell_type": "code",
   "execution_count": 8,
   "metadata": {
    "collapsed": false
   },
   "outputs": [
    {
     "name": "stdout",
     "output_type": "stream",
     "text": [
      "err at each point 2.4473109563560886e-07\n"
     ]
    },
    {
     "data": {
      "text/plain": [
       "2.4473109563560886e-07"
      ]
     },
     "execution_count": 8,
     "metadata": {},
     "output_type": "execute_result"
    }
   ],
   "source": [
    "getDiff(np.array(f_k[\"conv_2d_2_output\"]), np.array(f_m[\"conv_2d_2_output\"]))"
   ]
  },
  {
   "cell_type": "code",
   "execution_count": 9,
   "metadata": {
    "collapsed": false
   },
   "outputs": [
    {
     "name": "stdout",
     "output_type": "stream",
     "text": [
      "err at each point 5.015611738159739e-07\n"
     ]
    },
    {
     "data": {
      "text/plain": [
       "5.015611738159739e-07"
      ]
     },
     "execution_count": 9,
     "metadata": {},
     "output_type": "execute_result"
    }
   ],
   "source": [
    "getDiff(np.array(f_k[\"pool_2d_2_output\"]), np.array(f_m[\"pool_2d_2_output\"]))"
   ]
  },
  {
   "cell_type": "code",
   "execution_count": 10,
   "metadata": {
    "collapsed": false
   },
   "outputs": [
    {
     "name": "stdout",
     "output_type": "stream",
     "text": [
      "err at each point 5.015611738159739e-07\n"
     ]
    },
    {
     "data": {
      "text/plain": [
       "5.015611738159739e-07"
      ]
     },
     "execution_count": 10,
     "metadata": {},
     "output_type": "execute_result"
    }
   ],
   "source": [
    "getDiff(np.array(f_k[\"flatten_1_output\"]), np.array(f_m[\"flatten_1_output\"]))"
   ]
  },
  {
   "cell_type": "code",
   "execution_count": 11,
   "metadata": {
    "collapsed": false
   },
   "outputs": [
    {
     "name": "stdout",
     "output_type": "stream",
     "text": [
      "err at each point 1.0317947408870212e-06\n"
     ]
    },
    {
     "data": {
      "text/plain": [
       "1.0317947408870212e-06"
      ]
     },
     "execution_count": 11,
     "metadata": {},
     "output_type": "execute_result"
    }
   ],
   "source": [
    "getDiff(np.array(f_k[\"dense___1_output\"]), np.array(f_m[\"dense___1_output\"]))"
   ]
  },
  {
   "cell_type": "code",
   "execution_count": 12,
   "metadata": {
    "collapsed": false
   },
   "outputs": [
    {
     "name": "stdout",
     "output_type": "stream",
     "text": [
      "err at each point 1.4150074376626252e-06\n"
     ]
    },
    {
     "data": {
      "text/plain": [
       "1.4150074376626252e-06"
      ]
     },
     "execution_count": 12,
     "metadata": {},
     "output_type": "execute_result"
    }
   ],
   "source": [
    "getDiff(np.array(f_k[\"dense___2_output\"]), np.array(f_m[\"dense___2_output\"]))"
   ]
  },
  {
   "cell_type": "code",
   "execution_count": 13,
   "metadata": {
    "collapsed": false
   },
   "outputs": [
    {
     "name": "stdout",
     "output_type": "stream",
     "text": [
      "err at each point 3.541947060226803e-10\n"
     ]
    },
    {
     "data": {
      "text/plain": [
       "3.541947060226803e-10"
      ]
     },
     "execution_count": 13,
     "metadata": {},
     "output_type": "execute_result"
    }
   ],
   "source": [
    "getDiff(np.array(f_k[\"dense___3_output\"]), np.array(f_m[\"dense___3_output\"]))"
   ]
  },
  {
   "cell_type": "code",
   "execution_count": 14,
   "metadata": {
    "collapsed": true
   },
   "outputs": [],
   "source": [
    "f_k.close()\n",
    "f_m.close()"
   ]
  },
  {
   "cell_type": "code",
   "execution_count": null,
   "metadata": {
    "collapsed": true
   },
   "outputs": [],
   "source": []
  }
 ],
 "metadata": {
  "kernelspec": {
   "display_name": "Python 3",
   "language": "python",
   "name": "python3"
  },
  "language_info": {
   "codemirror_mode": {
    "name": "ipython",
    "version": 3
   },
   "file_extension": ".py",
   "mimetype": "text/x-python",
   "name": "python",
   "nbconvert_exporter": "python",
   "pygments_lexer": "ipython3",
   "version": "3.6.0"
  }
 },
 "nbformat": 4,
 "nbformat_minor": 2
}
