{
 "cells": [
  {
   "cell_type": "code",
   "execution_count": 1,
   "metadata": {
    "collapsed": false
   },
   "outputs": [],
   "source": [
    "import numpy as np"
   ]
  },
  {
   "cell_type": "code",
   "execution_count": 3,
   "metadata": {
    "collapsed": false
   },
   "outputs": [],
   "source": [
    "with open(\"conv2d_1_kernal_bias.coe\", \"w\") as f:\n",
    "    f.write(\"MEMORY_INITIALIZATION_RADIX=16;\\n\")\n",
    "    kernalDats = []\n",
    "    for k in range(6):\n",
    "        kernalData = \"\".join([\"08{0}0\".format(k) if i % 2 else \"0000\" for i in range(25)])\n",
    "        kernalDats.append(kernalData)\n",
    "    f.write(\"MEMORY_INITIALIZATION_VECTOR={0},{1};\\n\".format(\"\".join(kernalDats), \"0000\" * 144 + \"0010\" * 6))\n",
    "    \n"
   ]
  },
  {
   "cell_type": "code",
   "execution_count": null,
   "metadata": {
    "collapsed": true
   },
   "outputs": [],
   "source": []
  }
 ],
 "metadata": {
  "kernelspec": {
   "display_name": "Python 3",
   "language": "python",
   "name": "python3"
  },
  "language_info": {
   "codemirror_mode": {
    "name": "ipython",
    "version": 3
   },
   "file_extension": ".py",
   "mimetype": "text/x-python",
   "name": "python",
   "nbconvert_exporter": "python",
   "pygments_lexer": "ipython3",
   "version": "3.6.0"
  }
 },
 "nbformat": 4,
 "nbformat_minor": 2
}
