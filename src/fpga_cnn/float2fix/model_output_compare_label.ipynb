{
 "cells": [
  {
   "cell_type": "code",
   "execution_count": 1,
   "metadata": {
    "collapsed": false
   },
   "outputs": [
    {
     "name": "stderr",
     "output_type": "stream",
     "text": [
      "Using TensorFlow backend.\n"
     ]
    }
   ],
   "source": [
    "import h5py\n",
    "import numpy as np\n",
    "from keras.models import Sequential, load_model, Model\n",
    "import pickle\n",
    "from keras.layers import Dense,Flatten,Conv2D,MaxPool2D\n",
    "from keras.optimizers import SGD\n",
    "from keras.utils import to_categorical\n",
    "import cv2\n",
    "import os\n",
    "import json\n",
    "import sys\n",
    "from functools import reduce"
   ]
  },
  {
   "cell_type": "code",
   "execution_count": 2,
   "metadata": {
    "collapsed": false
   },
   "outputs": [],
   "source": [
    "dataPath = \"/home/szh-920/workspace/master_graduate/data\"\n",
    "f_k = h5py.File('{0}/model_output/keras_model_output_standard.hdf5'.format(dataPath), \"r\")\n",
    "f_m = h5py.File('{0}/model_output/rebuild_model_fix_8_8_output.hdf5'.format(dataPath), \"r\")"
   ]
  },
  {
   "cell_type": "code",
   "execution_count": 3,
   "metadata": {
    "collapsed": false
   },
   "outputs": [
    {
     "name": "stdout",
     "output_type": "stream",
     "text": [
      "conv_2d_1_output\n",
      "conv_2d_2_output\n",
      "dense___1_output\n",
      "dense___2_output\n",
      "dense___3_output\n",
      "final_____output\n",
      "flatten_1_output\n",
      "pool_2d_1_output\n",
      "pool_2d_2_output\n",
      "target_label\n"
     ]
    }
   ],
   "source": [
    "f_k.visit(print)"
   ]
  },
  {
   "cell_type": "code",
   "execution_count": 4,
   "metadata": {
    "collapsed": false
   },
   "outputs": [
    {
     "name": "stdout",
     "output_type": "stream",
     "text": [
      "conv_2d_1_output\n",
      "conv_2d_2_output\n",
      "dense___1_output\n",
      "dense___2_output\n",
      "dense___3_output\n",
      "final_____output\n",
      "flatten_1_output\n",
      "pool_2d_1_output\n",
      "pool_2d_2_output\n"
     ]
    }
   ],
   "source": [
    "f_m.visit(print)"
   ]
  },
  {
   "cell_type": "code",
   "execution_count": 5,
   "metadata": {
    "collapsed": true
   },
   "outputs": [],
   "source": [
    "def getMaxIdx(vec):\n",
    "    maxIdx = -1\n",
    "    maxVal = -np.inf\n",
    "    for idx, val in enumerate(vec):\n",
    "        if maxVal < val:\n",
    "            maxVal = val\n",
    "            maxIdx = idx\n",
    "    return maxIdx"
   ]
  },
  {
   "cell_type": "code",
   "execution_count": 6,
   "metadata": {
    "collapsed": false
   },
   "outputs": [],
   "source": [
    "a1 = np.array([getMaxIdx(i) for i in f_k[\"dense___3_output\"]])"
   ]
  },
  {
   "cell_type": "code",
   "execution_count": 7,
   "metadata": {
    "collapsed": false
   },
   "outputs": [],
   "source": [
    "a2 = np.array([getMaxIdx(i) for i in f_m[\"dense___3_output\"]])"
   ]
  },
  {
   "cell_type": "code",
   "execution_count": 8,
   "metadata": {
    "collapsed": true
   },
   "outputs": [],
   "source": [
    "a3 = np.array([getMaxIdx(i) for i in f_k[\"target_label\"]])"
   ]
  },
  {
   "cell_type": "code",
   "execution_count": 9,
   "metadata": {
    "collapsed": true
   },
   "outputs": [],
   "source": [
    "def calcPrecision(res, label):\n",
    "    return ((res == label).sum() / len(res)) * 100"
   ]
  },
  {
   "cell_type": "code",
   "execution_count": 10,
   "metadata": {
    "collapsed": false
   },
   "outputs": [
    {
     "data": {
      "text/plain": [
       "98.92966360856269"
      ]
     },
     "execution_count": 10,
     "metadata": {},
     "output_type": "execute_result"
    }
   ],
   "source": [
    "calcPrecision(a1, a3)"
   ]
  },
  {
   "cell_type": "code",
   "execution_count": 11,
   "metadata": {
    "collapsed": false
   },
   "outputs": [
    {
     "data": {
      "text/plain": [
       "96.3302752293578"
      ]
     },
     "execution_count": 11,
     "metadata": {},
     "output_type": "execute_result"
    }
   ],
   "source": [
    "calcPrecision(a3, a2)"
   ]
  },
  {
   "cell_type": "code",
   "execution_count": 12,
   "metadata": {
    "collapsed": true
   },
   "outputs": [],
   "source": [
    "f_k.close()\n",
    "f_m.close()"
   ]
  },
  {
   "cell_type": "code",
   "execution_count": 13,
   "metadata": {
    "collapsed": false
   },
   "outputs": [
    {
     "name": "stdout",
     "output_type": "stream",
     "text": [
      "(3921, 35, 35, 1)\n"
     ]
    }
   ],
   "source": [
    "with h5py.File(\"{0}/data_set/dataSet.hdf5\".format(dataPath), \"r\") as data_f:\n",
    "    train_x = data_f[\"/train_x\"]\n",
    "    train_y = data_f[\"/train_y\"]\n",
    "    test_x = data_f[\"/test_x\"]\n",
    "    test_y = data_f[\"/test_y\"]\n",
    "    print(test_x.shape)"
   ]
  },
  {
   "cell_type": "code",
   "execution_count": null,
   "metadata": {
    "collapsed": true
   },
   "outputs": [],
   "source": []
  },
  {
   "cell_type": "code",
   "execution_count": null,
   "metadata": {
    "collapsed": true
   },
   "outputs": [],
   "source": []
  },
  {
   "cell_type": "code",
   "execution_count": null,
   "metadata": {
    "collapsed": true
   },
   "outputs": [],
   "source": []
  }
 ],
 "metadata": {
  "kernelspec": {
   "display_name": "Python 3",
   "language": "python",
   "name": "python3"
  },
  "language_info": {
   "codemirror_mode": {
    "name": "ipython",
    "version": 3
   },
   "file_extension": ".py",
   "mimetype": "text/x-python",
   "name": "python",
   "nbconvert_exporter": "python",
   "pygments_lexer": "ipython3",
   "version": "3.6.0"
  }
 },
 "nbformat": 4,
 "nbformat_minor": 2
}
